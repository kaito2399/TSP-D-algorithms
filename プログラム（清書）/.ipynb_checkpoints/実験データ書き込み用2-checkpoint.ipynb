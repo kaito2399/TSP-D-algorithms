{
 "cells": [
  {
   "cell_type": "code",
   "execution_count": 8,
   "metadata": {},
   "outputs": [],
   "source": [
    "import random\n",
    "import math\n",
    "import numpy\n",
    "def mondai_uniform(n):\n",
    "    V=[(random.uniform(0,100),random.uniform(0,100)) for i in range(n)]\n",
    "    return V\n",
    "\n",
    "def mondai_donuts(n):\n",
    "    V=[]\n",
    "    for i in range(n):\n",
    "        angle=random.uniform(0,2*math.pi)\n",
    "        V.append((25*random.uniform(0.9,1.1)*math.cos(angle)+50,25*random.uniform(0.9,1.1)*math.sin(angle)+50))\n",
    "    return V\n",
    "\n",
    "def mondai_donuts_center(n):\n",
    "    V=[(50,50)]\n",
    "    for i in range(n-1):\n",
    "        angle=random.uniform(0,2*math.pi)\n",
    "        V.append((25*random.uniform(0.9,1.1)*math.cos(angle)+50,25*random.uniform(0.9,1.1)*math.sin(angle)+50))\n",
    "    return V\n",
    "\n",
    "def mondai_center(n):\n",
    "    V=[]\n",
    "    for i in range(n):\n",
    "        angle=random.uniform(0,2*math.pi)\n",
    "        r=numpy.random.normal(0,25)\n",
    "        V.append((r*math.cos(angle)+50,r*math.sin(angle)+50))\n",
    "    return V"
   ]
  },
  {
   "cell_type": "code",
   "execution_count": 13,
   "metadata": {},
   "outputs": [],
   "source": [
    "def t_cost(s,t): return ((s[0]-t[0])**2+(s[1]-t[1])**2)**(0.5)\n",
    "def d_cost(s,t): return (1/alpha)*(((s[0]-t[0])**2+(s[1]-t[1])**2)**(0.5))\n",
    "alpha=2"
   ]
  },
  {
   "cell_type": "code",
   "execution_count": 14,
   "metadata": {},
   "outputs": [],
   "source": [
    "# wb=px.load_workbook('実験結果2.xlsx')"
   ]
  },
  {
   "cell_type": "code",
   "execution_count": 27,
   "metadata": {},
   "outputs": [],
   "source": [
    "V=mondai_uniform(4)"
   ]
  },
  {
   "cell_type": "code",
   "execution_count": 50,
   "metadata": {},
   "outputs": [
    {
     "ename": "SyntaxError",
     "evalue": "unexpected EOF while parsing (<ipython-input-50-536873b538c2>, line 4)",
     "output_type": "error",
     "traceback": [
      "\u001b[1;36m  File \u001b[1;32m\"<ipython-input-50-536873b538c2>\"\u001b[1;36m, line \u001b[1;32m4\u001b[0m\n\u001b[1;33m    print(m\u001b[0m\n\u001b[1;37m           ^\u001b[0m\n\u001b[1;31mSyntaxError\u001b[0m\u001b[1;31m:\u001b[0m unexpected EOF while parsing\n"
     ]
    }
   ],
   "source": [
    "for p in set(range(n))-{depot}:\n",
    "    max_cij=sorted([t_cost(V[i],V[j]) for (i,j) in itertools.combinations(set(range(n))-{p},2)])[-1]\n",
    "    min_cqp=sorted([t_cost(V[p],V[q]) for q in set(range(n))-{p}])[0]"
   ]
  },
  {
   "cell_type": "code",
   "execution_count": 119,
   "metadata": {},
   "outputs": [
    {
     "name": "stdout",
     "output_type": "stream",
     "text": [
      "0\n"
     ]
    }
   ],
   "source": [
    "count=0\n",
    "alpha=2\n",
    "hold=0\n",
    "depot=0\n",
    "while count<=9:\n",
    "    V=mondai_uniform(100)\n",
    "    n=len(V)\n",
    "    for p in set(range(n))-{depot}:\n",
    "        max_cij=sorted([t_cost(V[i],V[j]) for (i,j) in itertools.combinations(set(range(n))-{p},2)])[-1]\n",
    "        min_cqp=sorted([t_cost(V[p],V[q]) for q in set(range(n))-{p}])[0]\n",
    "        if min_cqp>=2*max_cij:\n",
    "            hold=hold+1\n",
    "    count=count+1\n",
    "    \n",
    "print(hold)   "
   ]
  },
  {
   "cell_type": "code",
   "execution_count": 106,
   "metadata": {},
   "outputs": [
    {
     "name": "stdout",
     "output_type": "stream",
     "text": [
      "0\n"
     ]
    }
   ],
   "source": [
    "count=0\n",
    "alpha=2\n",
    "hold=0\n",
    "depot=0\n",
    "while count<=999:\n",
    "    V=mondai_donuts(10)\n",
    "    n=len(V)\n",
    "    for p in set(range(n))-{depot}:\n",
    "        max_cij=sorted([t_cost(V[i],V[j]) for (i,j) in itertools.combinations(set(range(n))-{p},2)])[-1]\n",
    "        min_cqp=sorted([t_cost(V[p],V[q]) for q in set(range(n))-{p}])[0]\n",
    "        if min_cqp>=2*max_cij:\n",
    "            hold=hold+1\n",
    "    count=count+1\n",
    "    \n",
    "print(hold)   "
   ]
  },
  {
   "cell_type": "code",
   "execution_count": 105,
   "metadata": {},
   "outputs": [
    {
     "name": "stdout",
     "output_type": "stream",
     "text": [
      "0\n"
     ]
    }
   ],
   "source": [
    "count=0\n",
    "alpha=2\n",
    "hold=0\n",
    "depot=0\n",
    "while count<=999:\n",
    "    V=mondai_donuts_center(10)\n",
    "    n=len(V)\n",
    "    for p in set(range(n))-{depot}:\n",
    "        max_cij=sorted([t_cost(V[i],V[j]) for (i,j) in itertools.combinations(set(range(n))-{p},2)])[-1]\n",
    "        min_cqp=sorted([t_cost(V[p],V[q]) for q in set(range(n))-{p}])[0]\n",
    "        if min_cqp>=2*max_cij:\n",
    "            hold=hold+1\n",
    "    count=count+1\n",
    "    \n",
    "print(hold)   "
   ]
  },
  {
   "cell_type": "code",
   "execution_count": 104,
   "metadata": {},
   "outputs": [
    {
     "name": "stdout",
     "output_type": "stream",
     "text": [
      "13\n"
     ]
    }
   ],
   "source": [
    "count=0\n",
    "alpha=2\n",
    "hold=0\n",
    "depot=0\n",
    "while count<=999:\n",
    "    V=mondai_center(10)\n",
    "    n=len(V)\n",
    "    for p in set(range(n))-{depot}:\n",
    "        max_cij=sorted([t_cost(V[i],V[j]) for (i,j) in itertools.combinations(set(range(n))-{p},2)])[-1]\n",
    "        min_cqp=sorted([t_cost(V[p],V[q]) for q in set(range(n))-{p}])[0]\n",
    "        if min_cqp>=2*max_cij:\n",
    "            hold=hold+1\n",
    "    count=count+1\n",
    "    \n",
    "print(hold)   "
   ]
  },
  {
   "cell_type": "code",
   "execution_count": 112,
   "metadata": {},
   "outputs": [
    {
     "name": "stdout",
     "output_type": "stream",
     "text": [
      "0\n"
     ]
    }
   ],
   "source": [
    "count=0\n",
    "alpha=2\n",
    "hold=0\n",
    "depot=0\n",
    "while count<=999:\n",
    "    V=mondai_uniform(10)\n",
    "    n=len(V)\n",
    "    for p in set(range(n))-{depot}:\n",
    "        min_cqp=sorted([t_cost(V[p],V[q]) for q in set(range(n))-{p}])[0]\n",
    "        sum_max_cij=sum(sorted([t_cost(V[i],V[j]) for j in set(range(n))-{p}])[-1] for i in set(range(n))-{p})\n",
    "        if 2*min_cqp>=sum_max_cij:\n",
    "            hold=hold+1\n",
    "    count=count+1\n",
    "\n",
    "print(hold)"
   ]
  },
  {
   "cell_type": "code",
   "execution_count": null,
   "metadata": {},
   "outputs": [],
   "source": []
  }
 ],
 "metadata": {
  "kernelspec": {
   "display_name": "Python 3",
   "language": "python",
   "name": "python3"
  },
  "language_info": {
   "codemirror_mode": {
    "name": "ipython",
    "version": 3
   },
   "file_extension": ".py",
   "mimetype": "text/x-python",
   "name": "python",
   "nbconvert_exporter": "python",
   "pygments_lexer": "ipython3",
   "version": "3.7.6"
  }
 },
 "nbformat": 4,
 "nbformat_minor": 4
}
