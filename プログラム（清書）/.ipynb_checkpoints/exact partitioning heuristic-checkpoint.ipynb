{
 "cells": [
  {
   "cell_type": "code",
   "execution_count": 2,
   "metadata": {},
   "outputs": [],
   "source": [
    "import random\n",
    "n=10\n",
    "V = [(random.uniform(5,75),random.uniform(5,55)) for i in range(n)]\n",
    "import matplotlib.pyplot as plt\n",
    "alpha=2"
   ]
  },
  {
   "cell_type": "code",
   "execution_count": 3,
   "metadata": {},
   "outputs": [],
   "source": [
    "def t_cost(s,t): return ((s[0]-t[0])**2+(s[1]-t[1])**2)**(0.5)\n",
    "def d_cost(s,t): return (1/alpha)*(((s[0]-t[0])**2+(s[1]-t[1])**2)**(0.5))"
   ]
  },
  {
   "cell_type": "code",
   "execution_count": 4,
   "metadata": {},
   "outputs": [],
   "source": [
    "import itertools\n",
    "def two_opt(ps):\n",
    "    n = len(ps)\n",
    "    res = list(range(n))\n",
    "    update = True\n",
    "    while update:\n",
    "        update = False\n",
    "        for (i,j) in itertools.combinations(range(n),2):\n",
    "            if ((t_cost(ps[res[i]],ps[res[i+1]])+t_cost(ps[res[j]],ps[res[(j+1)%n]]))>\n",
    "                (t_cost(ps[res[i]],ps[res[j]])+t_cost(ps[res[i+1]],ps[res[(j+1)%n]]))):\n",
    "                res[i+1:j+1] = res[j:i:-1]\n",
    "                update = True\n",
    "                \n",
    "    return res"
   ]
  },
  {
   "cell_type": "code",
   "execution_count": 5,
   "metadata": {},
   "outputs": [],
   "source": [
    "import heapq\n",
    "def mst(ps):\n",
    "    n = len(ps)\n",
    "    #prim\n",
    "    mst = {v:[] for v in range(n)} # MST の隣接リスト\n",
    "    X = set()\n",
    "    heap = []\n",
    "    for v in range(1,n):\n",
    "        heapq.heappush(heap,(t_cost(ps[0],ps[v]),0,v))\n",
    "    while len(heap)>0:\n",
    "        (d,u,v)=heapq.heappop(heap)\n",
    "        if v not in X:\n",
    "            X.add(v)\n",
    "            mst[u].append(v)\n",
    "            mst[v].append(u)\n",
    "            for w in range(n):\n",
    "                if w not in X: heapq.heappush(heap,(t_cost(ps[v],ps[w]),v,w))\n",
    "    #dfs\n",
    "    res = []\n",
    "    stack = [0]\n",
    "    visited = [False]*n\n",
    "    while len(stack)>0:\n",
    "        v = stack.pop()\n",
    "        if visited[v]: continue\n",
    "        visited[v]=True\n",
    "        res.append(v)\n",
    "        for u in mst[v]: stack.append(u)\n",
    "    return res "
   ]
  },
  {
   "cell_type": "code",
   "execution_count": 6,
   "metadata": {},
   "outputs": [
    {
     "data": {
      "text/plain": [
       "[0, 8, 2, 5, 4, 6, 3, 1, 9, 7]"
      ]
     },
     "execution_count": 6,
     "metadata": {},
     "output_type": "execute_result"
    }
   ],
   "source": [
    "mst(V)"
   ]
  },
  {
   "cell_type": "code",
   "execution_count": 9,
   "metadata": {},
   "outputs": [],
   "source": [
    "def dp(ps):\n",
    "    length = {} # length[(u,S)]: u を始点とし S の点すべてを回る最小経路長、ディクショナリ\n",
    "    route = {} # route[(u,S)]: 最小経路長を達成するためのルート、ディクショナリ\n",
    "    v = ps[0]\n",
    "    n = len(ps)\n",
    "    for i in range(1,n+1):\n",
    "        for a in itertools.combinations(range(n),i):\n",
    "            S = frozenset(a)\n",
    "            for j in S:\n",
    "                u = ps[j]\n",
    "                if i==1:\n",
    "                    length[(j,S)] = t_cost(v,u)\n",
    "                    route[(j,S)] = [j]\n",
    "                else:\n",
    "                    Sj = S-set([j]) # S から j を除いたもの\n",
    "                    k=min(Sj,key=lambda k: length[(k,Sj)]+t_cost(ps[k],u))#Sjの中でlength[(k,Sj)]+dist(ps[k],u)が最小のものを返している\n",
    "                    length[(j,S)] = length[(k,Sj)]+t_cost(ps[k],u)\n",
    "                    route[(j,S)] = route[(k,Sj)]+[j]\n",
    "    return route[(0,frozenset(range(n)))] "
   ]
  },
  {
   "cell_type": "code",
   "execution_count": 1,
   "metadata": {},
   "outputs": [],
   "source": [
    "def t_pathcost(a,b,route):\n",
    "    pathcost=0\n",
    "    if a<b:\n",
    "        for i in range(a,b):\n",
    "            pathcost=pathcost+t_cost(V[route[i]],V[route[(i+1)%len(route)]])\n",
    "    if a>b:\n",
    "        for i in range(a,len(route)):\n",
    "            pathcost=pathcost+t_cost(V[route[i]],V[route[(i+1)%len(route)]])\n",
    "        for i in range(b):\n",
    "            pathcost=pathcost+t_cost(V[route[i]],V[route[(i+1)%len(route)]])\n",
    "    if a==b:\n",
    "        pathcost=0\n",
    "            \n",
    "    return pathcost"
   ]
  },
  {
   "cell_type": "code",
   "execution_count": 11,
   "metadata": {},
   "outputs": [],
   "source": [
    "import itertools\n",
    "def exact_core(tsp,depot):\n",
    "    T={}\n",
    "    M={}\n",
    "    D={}\n",
    "    Dres=0\n",
    "    Mdrone={}\n",
    "    route={}\n",
    "    n=len(tsp)\n",
    "    for (start,drone,end) in itertools.combinations(range(n),3):\n",
    "        drone_cost=d_cost(V[tsp[start]],V[tsp[drone]])+d_cost(V[tsp[drone]],V[tsp[end]])\n",
    "        truck_cost=t_pathcost(start,drone-1,tsp)+t_cost(V[tsp[drone-1]],V[tsp[drone+1]])+t_pathcost(drone+1,end,tsp)\n",
    "        T[start,drone,end]=max(drone_cost,truck_cost)\n",
    "    for (end,start,drone) in itertools.combinations(range(n),3):\n",
    "        drone_cost=d_cost(V[tsp[start]],V[tsp[drone]])+d_cost(V[tsp[drone]],V[tsp[end]])\n",
    "        truck_cost=t_pathcost(start,drone-1,tsp)+t_cost(V[tsp[drone-1]],V[tsp[(drone+1)%n]])+t_pathcost((drone+1)%n,end,tsp)\n",
    "        T[start,drone,end]=max(drone_cost,truck_cost)\n",
    "    for (drone,end,start) in itertools.combinations(range(n),3):\n",
    "        drone_cost=d_cost(V[tsp[start]],V[tsp[drone]])+d_cost(V[tsp[drone]],V[tsp[end]])\n",
    "        truck_cost=t_pathcost(start,drone-1,tsp)+t_cost(V[tsp[drone-1]],V[tsp[(drone+1)%n]])+t_pathcost((drone+1)%n,end,tsp)\n",
    "        T[start,drone,end]=max(drone_cost,truck_cost)\n",
    "        \n",
    "    for (i,j) in itertools.permutations(range(n),2):\n",
    "        M[i,j]=float('inf')\n",
    "        if i<j:\n",
    "            if i+1==j:\n",
    "                M[i,j]=t_cost(V[tsp[i]],V[tsp[j]])\n",
    "            for k in range(i+1,j):\n",
    "                if M[i,j]>T[i,k,j]:\n",
    "                    M[i,j]=T[i,k,j]\n",
    "                    Mdrone[tsp[i],tsp[j]]=[tsp[k]]\n",
    "        else:\n",
    "            for k in range(i+1,n):\n",
    "                if M[i,j]>T[i,k,j]:\n",
    "                    M[i,j]=T[i,k,j]\n",
    "                    Mdrone[tsp[i],tsp[j]]=[tsp[k]]\n",
    "            for k in range(0,j):\n",
    "                if M[i,j]>T[i,k,j]:\n",
    "                    M[i,j]=T[i,k,j]\n",
    "                    Mdrone[tsp[i],tsp[j]]=[tsp[k]]\n",
    "            M[n-1,0]=t_cost(V[tsp[n-1]],V[tsp[0]])\n",
    "\n",
    "    for i in range(tsp.index(depot)+1,tsp.index(depot)+n+1):\n",
    "        D[depot,tsp[i%n]]=float('inf')\n",
    "        Dres=float('inf')\n",
    "        D[depot,depot]=0\n",
    "        route[depot,depot]=[[depot]]\n",
    "        for j in range(tsp.index(depot),i):\n",
    "            if j%n!=i%n:\n",
    "                d=M[j%n,i%n]+D[depot,tsp[j%n]]\n",
    "                r=route[depot,tsp[j%n]]+[[tsp[j%n],tsp[i%n]]]\n",
    "                if i==tsp.index(depot)+n:\n",
    "                    if Dres>d:\n",
    "                        Dres=d\n",
    "                        route[depot,depot]=r\n",
    "\n",
    "                else:\n",
    "                    if D[depot,tsp[i%n]]>d:\n",
    "                        D[depot,tsp[i%n]]=d\n",
    "                        route[depot,tsp[i%n]]=r\n",
    "\n",
    "\n",
    "    pathlen=len(route[depot,depot])\n",
    "    path=[]\n",
    "    for i in range(pathlen-1):\n",
    "        path=path+route[depot,depot][i+1]\n",
    "        if (route[depot,depot][i+1][0],route[depot,depot][i+1][1]) in Mdrone:\n",
    "            path=path+[Mdrone[route[depot,depot][i+1][0],route[depot,depot][i+1][1]]]\n",
    "        else:\n",
    "            path=path+[[]]\n",
    "    \n",
    "        \n",
    "    \n",
    "    return Dres,path"
   ]
  },
  {
   "cell_type": "code",
   "execution_count": 12,
   "metadata": {},
   "outputs": [],
   "source": [
    "import itertools\n",
    "def exact_ph(alg,V,depot):\n",
    "    tsp=alg(V)\n",
    "    return exact_core(tsp,depot)"
   ]
  },
  {
   "cell_type": "code",
   "execution_count": 13,
   "metadata": {},
   "outputs": [
    {
     "data": {
      "text/plain": [
       "(104.51494635935934, [4, 7, [6], 7, 0, [8], 0, 4, [2]])"
      ]
     },
     "execution_count": 13,
     "metadata": {},
     "output_type": "execute_result"
    }
   ],
   "source": [
    "exact_ph(two_opt,V,4)"
   ]
  },
  {
   "cell_type": "code",
   "execution_count": null,
   "metadata": {},
   "outputs": [],
   "source": []
  }
 ],
 "metadata": {
  "kernelspec": {
   "display_name": "Python 3",
   "language": "python",
   "name": "python3"
  },
  "language_info": {
   "codemirror_mode": {
    "name": "ipython",
    "version": 3
   },
   "file_extension": ".py",
   "mimetype": "text/x-python",
   "name": "python",
   "nbconvert_exporter": "python",
   "pygments_lexer": "ipython3",
   "version": "3.7.6"
  }
 },
 "nbformat": 4,
 "nbformat_minor": 4
}
