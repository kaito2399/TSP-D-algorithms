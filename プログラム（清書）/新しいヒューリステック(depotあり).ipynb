{
 "cells": [
  {
   "cell_type": "code",
   "execution_count": 1,
   "metadata": {},
   "outputs": [],
   "source": [
    "def t_cost(s,t): return ((s[0]-t[0])**2+(s[1]-t[1])**2)**(0.5)\n",
    "def d_cost(s,t): return (1/alpha)*(((s[0]-t[0])**2+(s[1]-t[1])**2)**(0.5))\n",
    "alpha=2"
   ]
  },
  {
   "cell_type": "code",
   "execution_count": 2,
   "metadata": {},
   "outputs": [],
   "source": [
    "def t_pathcost(a,b,route):\n",
    "    pathcost=0\n",
    "    if a<b:\n",
    "        for i in range(a,b):\n",
    "            pathcost=pathcost+t_cost(V[route[i]],V[route[(i+1)%len(route)]])\n",
    "    if a>b:\n",
    "        for i in range(a,len(route)):\n",
    "            pathcost=pathcost+t_cost(V[route[i]],V[route[(i+1)%len(route)]])\n",
    "        for i in range(b):\n",
    "            pathcost=pathcost+t_cost(V[route[i]],V[route[(i+1)%len(route)]])\n",
    "    if a==b:\n",
    "        pathcost=0\n",
    "            \n",
    "    return pathcost"
   ]
  },
  {
   "cell_type": "code",
   "execution_count": 3,
   "metadata": {},
   "outputs": [],
   "source": [
    "import itertools\n",
    "def two_opt(ps):\n",
    "    n = len(ps)\n",
    "    res = list(range(n))\n",
    "    update = True\n",
    "    while update:\n",
    "        update = False\n",
    "        for (i,j) in itertools.combinations(range(n),2):\n",
    "            if ((t_cost(ps[res[i]],ps[res[i+1]])+t_cost(ps[res[j]],ps[res[(j+1)%n]]))>\n",
    "                (t_cost(ps[res[i]],ps[res[j]])+t_cost(ps[res[i+1]],ps[res[(j+1)%n]]))):\n",
    "                res[i+1:j+1] = res[j:i:-1]\n",
    "                update = True\n",
    "                \n",
    "    return res"
   ]
  },
  {
   "cell_type": "code",
   "execution_count": 4,
   "metadata": {},
   "outputs": [],
   "source": [
    "import heapq\n",
    "def mst(ps):\n",
    "    n = len(ps)\n",
    "    #prim\n",
    "    mst = {v:[] for v in range(n)} # MST の隣接リスト\n",
    "    X = set()\n",
    "    heap = []\n",
    "    for v in range(1,n):\n",
    "        heapq.heappush(heap,(t_cost(ps[0],ps[v]),0,v))\n",
    "    while len(heap)>0:\n",
    "        (d,u,v)=heapq.heappop(heap)\n",
    "        if v not in X:\n",
    "            X.add(v)\n",
    "            mst[u].append(v)\n",
    "            mst[v].append(u)\n",
    "            for w in range(n):\n",
    "                if w not in X: heapq.heappush(heap,(t_cost(ps[v],ps[w]),v,w))\n",
    "    #dfs\n",
    "    res = []\n",
    "    stack = [0]\n",
    "    visited = [False]*n\n",
    "    while len(stack)>0:\n",
    "        v = stack.pop()\n",
    "        if visited[v]: continue\n",
    "        visited[v]=True\n",
    "        res.append(v)\n",
    "        for u in mst[v]: stack.append(u)\n",
    "    return res "
   ]
  },
  {
   "cell_type": "code",
   "execution_count": 5,
   "metadata": {},
   "outputs": [],
   "source": [
    "def dp(ps):\n",
    "    length = {} # length[(u,S)]: u を始点とし S の点すべてを回る最小経路長、ディクショナリ\n",
    "    route = {} # route[(u,S)]: 最小経路長を達成するためのルート、ディクショナリ\n",
    "    v = ps[0]\n",
    "    n = len(ps)\n",
    "    for i in range(1,n+1):\n",
    "        for a in itertools.combinations(range(n),i):\n",
    "            S = frozenset(a)\n",
    "            for j in S:\n",
    "                u = ps[j]\n",
    "                if i==1:\n",
    "                    length[(j,S)] = t_cost(v,u)\n",
    "                    route[(j,S)] = [j]\n",
    "                else:\n",
    "                    Sj = S-set([j]) # S から j を除いたもの\n",
    "                    k=min(Sj,key=lambda k: length[(k,Sj)]+t_cost(ps[k],u))#Sjの中でlength[(k,Sj)]+dist(ps[k],u)が最小のものを返している\n",
    "                    length[(j,S)] = length[(k,Sj)]+t_cost(ps[k],u)\n",
    "                    route[(j,S)] = route[(k,Sj)]+[j]\n",
    "    return route[(0,frozenset(range(n)))] "
   ]
  },
  {
   "cell_type": "code",
   "execution_count": 26,
   "metadata": {},
   "outputs": [],
   "source": [
    "import itertools\n",
    "def merge(truck_nodes,drone_nodes,nd,alg,V,depot):\n",
    "    D={}\n",
    "    T={}\n",
    "    t=[V[i] for i in truck_nodes]\n",
    "    tpath=[truck_nodes[i] for i in alg(t)]\n",
    "    for drone in drone_nodes:\n",
    "        for (start,end) in itertools.permutations(tpath,2):\n",
    "            drone_cost=d_cost(V[start],V[drone])+d_cost(V[drone],V[end])\n",
    "            truck_cost=t_pathcost(tpath.index(start),tpath.index(end),tpath)\n",
    "            T[start,drone,end]=max(drone_cost,truck_cost)\n",
    "    #ドローンとトラックが一緒に移動する場合は考えない\n",
    "    dc=[b for b in itertools.permutations(drone_nodes,nd)]#ドローンノードの訪れる順番\n",
    "    tc=[tuple({depot})+a for a in itertools.combinations(set(tpath)-{depot},nd-1)]#トラックノードのうちどれをスタートノード、エンドノードとするか\n",
    "    for comb in itertools.product(tc,dc):\n",
    "        d=0\n",
    "        for j in range(nd):\n",
    "            d=d+T[comb[0][j],comb[1][j],comb[0][(j+1)%nd]]\n",
    "        D[comb]=d,tpath\n",
    "    return min(D.values()),min(D,key=D.get)"
   ]
  },
  {
   "cell_type": "code",
   "execution_count": 128,
   "metadata": {},
   "outputs": [],
   "source": [
    "def merge_fast(truck_nodes,drone_nodes,nd,alg,V,depot):\n",
    "    D={}\n",
    "    T={}\n",
    "    t=[V[i] for i in truck_nodes]\n",
    "    tpath=[truck_nodes[i] for i in alg(t)]\n",
    "    for drone in drone_nodes:\n",
    "        for (start,end) in itertools.permutations(tpath,2):\n",
    "            drone_cost=d_cost(V[start],V[drone])+d_cost(V[drone],V[end])\n",
    "            truck_cost=t_pathcost(tpath.index(start),tpath.index(end),tpath)\n",
    "            T[start,drone,end]=max(drone_cost,truck_cost)\n",
    "    #ドローンとトラックが一緒に移動する場合は考えない\n",
    "    d=[V[i] for i in drone_nodes]\n",
    "    dpath=[drone_nodes[i] for i in alg(d)]\n",
    "    dc=[tuple(dpath),tuple(reversed(dpath))]#ドローンノードの訪れる順番\n",
    "    tc=[tuple({depot})+a for a in itertools.combinations(set(tpath)-{depot},nd-1)]#トラックノードのうちどれをスタートノード、エンドノードとするか\n",
    "    for comb in itertools.product(tc,dc):\n",
    "        d=0\n",
    "        for j in range(nd):\n",
    "            d=d+T[comb[0][j],comb[1][j],comb[0][(j+1)%nd]]\n",
    "        D[comb]=d,tpath\n",
    "    return min(D.values()),min(D,key=D.get)\n",
    "            \n",
    "    \n",
    "            "
   ]
  },
  {
   "cell_type": "code",
   "execution_count": 129,
   "metadata": {},
   "outputs": [],
   "source": [
    "def shiwake_mst(V,depot,dist):\n",
    "    n=len(V)\n",
    "    ndmin=2\n",
    "    ndmax=n//2\n",
    "    D={}\n",
    "    for nd in range(ndmin,ndmax+1):\n",
    "        drone_nodes=sorted(dist,key=dist.get)[-nd:]\n",
    "        truck_nodes=list(set(range(n))-set(drone_nodes))   \n",
    "        D[merge(truck_nodes,drone_nodes,nd,mst,V,depot)[1]]=merge(truck_nodes,drone_nodes,nd,mst,V,depot)[0]            \n",
    "    res=min(D.values())[0]\n",
    "    path=min(D,key=D.get)\n",
    "    return res,path"
   ]
  },
  {
   "cell_type": "code",
   "execution_count": 151,
   "metadata": {},
   "outputs": [],
   "source": [
    "def shiwake_mst_fast(V,depot,dist):\n",
    "    n=len(V)\n",
    "    ndmin=n//2\n",
    "    ndmax=n//2\n",
    "    D={}\n",
    "    for nd in range(ndmin,ndmax+1):\n",
    "        drone_nodes=sorted(dist,key=dist.get)[-nd:]\n",
    "        truck_nodes=list(set(range(n))-set(drone_nodes))   \n",
    "        D[merge_fast(truck_nodes,drone_nodes,nd,mst,V,depot)[1]]=merge_fast(truck_nodes,drone_nodes,nd,mst,V,depot)[0]            \n",
    "    res=min(D.values())[0]\n",
    "    path=min(D,key=D.get)\n",
    "    return res,path"
   ]
  },
  {
   "cell_type": "code",
   "execution_count": 105,
   "metadata": {},
   "outputs": [],
   "source": [
    "def shiwake_dp(V,depot,dist):\n",
    "    n=len(V)\n",
    "    ndmin=2\n",
    "    ndmax=n//2\n",
    "    D={}\n",
    "    for nd in range(ndmin,ndmax+1):\n",
    "        drone_nodes=sorted(dist,key=dist.get)[-nd:]\n",
    "        truck_nodes=list(set(range(n))-set(drone_nodes))   \n",
    "        D[merge(truck_nodes,drone_nodes,nd,dp,V,depot)[1]]=merge(truck_nodes,drone_nodes,nd,dp,V,depot)[0]            \n",
    "    res=min(D.values())[0]\n",
    "    path=min(D,key=D.get)\n",
    "    return res,path"
   ]
  },
  {
   "cell_type": "code",
   "execution_count": 9,
   "metadata": {},
   "outputs": [],
   "source": [
    "def MST_min(V,depot):\n",
    "    n=len(V)\n",
    "    length={i:[t_cost(V[i],V[j]) for j in range(n)] for i in set(range(n))-{depot}}\n",
    "    dist={i:sorted(length[i])[-2] for i in length}\n",
    "    return shiwake_mst(V,depot,dist)\n",
    "\n",
    "def MST_sec(V,depot):\n",
    "    n=len(V)\n",
    "    length={i:[t_cost(V[i],V[j]) for j in range(n)] for i in set(range(n))-{depot}}\n",
    "    dist={i:sorted(length[i])[-3] for i in length}\n",
    "    return shiwake_mst(V,depot,dist)\n",
    "\n",
    "def MST_sum(V,depot):\n",
    "    n=len(V)\n",
    "    dist={i:sum([t_cost(V[i],V[j]) for j in range(n)]) for i in set(range(n))-{depot}}\n",
    "    return shiwake_mst(V,depot,dist)\n",
    "\n",
    "def DP_min(V,depot):\n",
    "    n=len(V)\n",
    "    length={i:[t_cost(V[i],V[j]) for j in range(n)] for i in set(range(n))-{depot}}\n",
    "    dist={i:sorted(length[i])[-2] for i in length}\n",
    "    return shiwake_dp(V,depot,dist)\n",
    "\n",
    "def DP_sec(V,depot):\n",
    "    n=len(V)\n",
    "    length={i:[t_cost(V[i],V[j]) for j in range(n)] for i in set(range(n))-{depot}}\n",
    "    dist={i:sorted(length[i])[-3] for i in length}\n",
    "    return shiwake_dp(V,depot,dist)\n",
    "\n",
    "def DP_sum(V,depot):\n",
    "    n=len(V)\n",
    "    dist={i:sum([t_cost(V[i],V[j]) for j in range(n)]) for i in set(range(n))-{depot}}\n",
    "    return shiwake_dp(V,depot,dist)"
   ]
  },
  {
   "cell_type": "code",
   "execution_count": 113,
   "metadata": {},
   "outputs": [],
   "source": [
    "def MST_sum_fast(V,depot):\n",
    "    n=len(V)\n",
    "    dist={i:sum([t_cost(V[i],V[j]) for j in range(n)]) for i in set(range(n))-{depot}}\n",
    "    return shiwake_mst_fast(V,depot,dist)\n"
   ]
  },
  {
   "cell_type": "code",
   "execution_count": 152,
   "metadata": {},
   "outputs": [],
   "source": [
    "V=mondai_random(40)"
   ]
  },
  {
   "cell_type": "code",
   "execution_count": 153,
   "metadata": {},
   "outputs": [
    {
     "name": "stdout",
     "output_type": "stream",
     "text": [
      "Wall time: 280 ms\n"
     ]
    },
    {
     "data": {
      "text/plain": [
       "(4635.416097210977,\n",
       " ((0, 3, 4, 6, 7, 13, 14, 15, 17, 20, 23, 27, 29, 30, 32, 33, 35, 36, 37, 38),\n",
       "  (34, 21, 24, 39, 10, 25, 26, 28, 18, 9, 31, 1, 2, 12, 16, 8, 11, 5, 19, 22)))"
      ]
     },
     "execution_count": 153,
     "metadata": {},
     "output_type": "execute_result"
    }
   ],
   "source": [
    "%%time\n",
    "MST_sum_fast(V,0)"
   ]
  },
  {
   "cell_type": "code",
   "execution_count": null,
   "metadata": {},
   "outputs": [],
   "source": []
  },
  {
   "cell_type": "code",
   "execution_count": null,
   "metadata": {},
   "outputs": [],
   "source": [
    "\n",
    "\n",
    "def kouho_mst(V,depot,dist,m):\n",
    "    n=len(V)\n",
    "    ndmin=2\n",
    "    ndmax=n//2\n",
    "    D={}\n",
    "    for nd in range(ndmin,ndmax+1):\n",
    "        drone_subnodes=sorted(dist,key=dist.get)[-(nd+m):]\n",
    "        for s in itertools.combinations(drone_subnodes,nd):\n",
    "            drone_nodes=list(s)\n",
    "            truck_nodes=list(set(range(n))-set(drone_nodes))\n",
    "\n",
    "            D[merge(truck_nodes,drone_nodes,nd,mst,V,depot)[1]]=merge(truck_nodes,drone_nodes,nd,mst,V,depot)[0]\n",
    "\n",
    "    res=min(D.values())[0]\n",
    "    path=min(D,key=D.get)\n",
    "    return res,path"
   ]
  },
  {
   "cell_type": "code",
   "execution_count": 11,
   "metadata": {},
   "outputs": [],
   "source": [
    "def kouho_dp(V,depot,dist,m):\n",
    "    n=len(V)\n",
    "    ndmin=2\n",
    "    ndmax=n//2\n",
    "    D={}\n",
    "    for nd in range(ndmin,ndmax+1):\n",
    "        drone_subnodes=sorted(dist,key=dist.get)[-(nd+m):]\n",
    "        for s in itertools.combinations(drone_subnodes,nd):\n",
    "            drone_nodes=list(s)\n",
    "            truck_nodes=list(set(range(n))-set(drone_nodes))\n",
    "\n",
    "            D[merge(truck_nodes,drone_nodes,nd,dp,V,depot)[1]]=merge(truck_nodes,drone_nodes,nd,dp,V,depot)[0]\n",
    "\n",
    "    res=min(D.values())[0]\n",
    "    path=min(D,key=D.get)\n",
    "    return res,path"
   ]
  },
  {
   "cell_type": "code",
   "execution_count": 12,
   "metadata": {},
   "outputs": [],
   "source": [
    "def MST_min_kouho(V,depot):\n",
    "    n=len(V)\n",
    "    length={i:[t_cost(V[i],V[j]) for j in range(n)] for i in set(range(n))-{depot}}\n",
    "    dist={i:sorted(length[i])[-2] for i in length}\n",
    "    return kouho_mst(V,depot,dist,2)\n",
    "\n",
    "def MST_sec_kouho(V,depot):\n",
    "    n=len(V)\n",
    "    length={i:[t_cost(V[i],V[j]) for j in range(n)] for i in set(range(n))-{depot}}\n",
    "    dist={i:sorted(length[i])[-3] for i in length}\n",
    "    return kouho_mst(V,depot,dist,2)\n",
    "\n",
    "def MST_sum_kouho(V,depot):\n",
    "    n=len(V)\n",
    "    wa={i:sum([t_cost(V[i],V[j]) for j in range(n)]) for i in set(range(n))-{depot}}\n",
    "    return kouho_mst(V,depot,wa,2)\n",
    "\n",
    "def DP_min_kouho(V,depot):\n",
    "    n=len(V)\n",
    "    length={i:[t_cost(V[i],V[j]) for j in range(n)] for i in set(range(n))-{depot}}\n",
    "    dist={i:sorted(length[i])[-2] for i in length}\n",
    "    return kouho_dp(V,depot,dist,2)\n",
    "\n",
    "def DP_sec_kouho(V,depot):\n",
    "    n=len(V)\n",
    "    length={i:[t_cost(V[i],V[j]) for j in range(n)] for i in set(range(n))-{depot}}\n",
    "    dist={i:sorted(length[i])[-3] for i in length}\n",
    "    return kouho_dp(V,depot,dist,2)\n",
    "\n",
    "def DP_sum_kouho(V,depot):\n",
    "    n=len(V)\n",
    "    wa={i:sum([t_cost(V[i],V[j]) for j in range(n)]) for i in set(range(n))-{depot}}\n",
    "    return kouho_dp(V,depot,wa,2)"
   ]
  },
  {
   "cell_type": "code",
   "execution_count": 13,
   "metadata": {},
   "outputs": [],
   "source": [
    "def MST_dep(V,depot):\n",
    "    dist={i:t_cost(V[depot],V[i]) for i in range(n)}        \n",
    "    return shiwake_mst(V,depot,dist)\n",
    "\n",
    "def DP_dep(V,depot):\n",
    "    dist={i:t_cost(V[depot],V[i]) for i in range(n)}        \n",
    "    return shiwake_dp(V,depot,dist)\n",
    "\n",
    "def MST_dep_kouho(V,depot):\n",
    "    dist={i:t_cost(V[depot],V[i]) for i in range(n)}\n",
    "    return kouho_mst(V,depot,dist,2)\n",
    "\n",
    "def DP_dep_kouho(V,depot):\n",
    "    dist={i:t_cost(V[depot],V[i]) for i in range(n)}\n",
    "    return kouho_dp(V,depot,dist,2)"
   ]
  },
  {
   "cell_type": "code",
   "execution_count": 14,
   "metadata": {},
   "outputs": [],
   "source": [
    "import random\n",
    "def mondai_random(n):\n",
    "    V=[(random.uniform(0,100),random.uniform(0,100)) for i in range(n)]\n",
    "    return V"
   ]
  },
  {
   "cell_type": "code",
   "execution_count": 26,
   "metadata": {},
   "outputs": [],
   "source": [
    "V=mondai_random(20)"
   ]
  },
  {
   "cell_type": "code",
   "execution_count": 27,
   "metadata": {},
   "outputs": [
    {
     "name": "stdout",
     "output_type": "stream",
     "text": [
      "Wall time: 54.7 s\n"
     ]
    },
    {
     "data": {
      "text/plain": [
       "(1160.6762515384344,\n",
       " ((0, 1, 2, 3, 7, 8, 11, 14, 18, 19), (13, 4, 16, 6, 10, 9, 12, 15, 17, 5)))"
      ]
     },
     "execution_count": 27,
     "metadata": {},
     "output_type": "execute_result"
    }
   ],
   "source": [
    "%%time\n",
    "MST_sum(V,0)"
   ]
  },
  {
   "cell_type": "code",
   "execution_count": null,
   "metadata": {},
   "outputs": [],
   "source": []
  }
 ],
 "metadata": {
  "kernelspec": {
   "display_name": "Python 3",
   "language": "python",
   "name": "python3"
  },
  "language_info": {
   "codemirror_mode": {
    "name": "ipython",
    "version": 3
   },
   "file_extension": ".py",
   "mimetype": "text/x-python",
   "name": "python",
   "nbconvert_exporter": "python",
   "pygments_lexer": "ipython3",
   "version": "3.7.6"
  }
 },
 "nbformat": 4,
 "nbformat_minor": 4
}
