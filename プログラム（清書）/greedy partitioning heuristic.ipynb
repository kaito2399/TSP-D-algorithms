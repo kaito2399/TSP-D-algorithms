{
 "cells": [
  {
   "cell_type": "code",
   "execution_count": 2,
   "metadata": {},
   "outputs": [],
   "source": [
    "import random\n",
    "n=10\n",
    "V = [(random.uniform(5,75),random.uniform(5,55)) for i in range(n)]\n",
    "import matplotlib.pyplot as plt\n",
    "alpha=2"
   ]
  },
  {
   "cell_type": "code",
   "execution_count": 3,
   "metadata": {},
   "outputs": [],
   "source": [
    "def t_cost(s,t): return ((s[0]-t[0])**2+(s[1]-t[1])**2)**(0.5)\n",
    "def d_cost(s,t): return (1/alpha)*(((s[0]-t[0])**2+(s[1]-t[1])**2)**(0.5))"
   ]
  },
  {
   "cell_type": "code",
   "execution_count": 4,
   "metadata": {},
   "outputs": [],
   "source": [
    "import itertools\n",
    "def two_opt(ps):\n",
    "    n = len(ps)\n",
    "    res = list(range(n))\n",
    "    update = True\n",
    "    while update:\n",
    "        update = False\n",
    "        for (i,j) in itertools.combinations(range(n),2):\n",
    "            if ((t_cost(ps[res[i]],ps[res[i+1]])+t_cost(ps[res[j]],ps[res[(j+1)%n]]))>\n",
    "                (t_cost(ps[res[i]],ps[res[j]])+t_cost(ps[res[i+1]],ps[res[(j+1)%n]]))):\n",
    "                res[i+1:j+1] = res[j:i:-1]\n",
    "                update = True\n",
    "                \n",
    "    return res"
   ]
  },
  {
   "cell_type": "code",
   "execution_count": 5,
   "metadata": {},
   "outputs": [],
   "source": [
    "import heapq\n",
    "def mst(ps):\n",
    "    n = len(ps)\n",
    "    #prim\n",
    "    mst = {v:[] for v in range(n)} # MST の隣接リスト\n",
    "    X = set()\n",
    "    heap = []\n",
    "    for v in range(1,n):\n",
    "        heapq.heappush(heap,(t_cost(ps[0],ps[v]),0,v))\n",
    "    while len(heap)>0:\n",
    "        (d,u,v)=heapq.heappop(heap)\n",
    "        if v not in X:\n",
    "            X.add(v)\n",
    "            mst[u].append(v)\n",
    "            mst[v].append(u)\n",
    "            for w in range(n):\n",
    "                if w not in X: heapq.heappush(heap,(t_cost(ps[v],ps[w]),v,w))\n",
    "    #dfs\n",
    "    res = []\n",
    "    stack = [0]\n",
    "    visited = [False]*n\n",
    "    while len(stack)>0:\n",
    "        v = stack.pop()\n",
    "        if visited[v]: continue\n",
    "        visited[v]=True\n",
    "        res.append(v)\n",
    "        for u in mst[v]: stack.append(u)\n",
    "    return res "
   ]
  },
  {
   "cell_type": "code",
   "execution_count": 6,
   "metadata": {},
   "outputs": [],
   "source": [
    "def dp(ps):\n",
    "    length = {} # length[(u,S)]: u を始点とし S の点すべてを回る最小経路長、ディクショナリ\n",
    "    route = {} # route[(u,S)]: 最小経路長を達成するためのルート、ディクショナリ\n",
    "    v = ps[0]\n",
    "    n = len(ps)\n",
    "    for i in range(1,n+1):\n",
    "        for a in itertools.combinations(range(n),i):\n",
    "            S = frozenset(a)\n",
    "            for j in S:\n",
    "                u = ps[j]\n",
    "                if i==1:\n",
    "                    length[(j,S)] = t_cost(v,u)\n",
    "                    route[(j,S)] = [j]\n",
    "                else:\n",
    "                    Sj = S-set([j]) # S から j を除いたもの\n",
    "                    k=min(Sj,key=lambda k: length[(k,Sj)]+t_cost(ps[k],u))#Sjの中でlength[(k,Sj)]+dist(ps[k],u)が最小のものを返している\n",
    "                    length[(j,S)] = length[(k,Sj)]+t_cost(ps[k],u)\n",
    "                    route[(j,S)] = route[(k,Sj)]+[j]\n",
    "    return route[(0,frozenset(range(n)))] "
   ]
  },
  {
   "cell_type": "code",
   "execution_count": 7,
   "metadata": {},
   "outputs": [],
   "source": [
    "import itertools\n",
    "import numpy\n",
    "def greedy_core(tsp,depot):#depotはindex指定ではない\n",
    "    label={}\n",
    "    operation={}\n",
    "    flyop={}\n",
    "    driveop={}\n",
    "    tsptotal=0\n",
    "    for i in tsp:\n",
    "        label[i]='simple'\n",
    "        tsptotal=tsptotal+t_cost(V[tsp[i]],V[tsp[(i+1)%len(tsp)]])\n",
    "    n=len(label)\n",
    "    tspdtotal=tsptotal\n",
    "    while 'simple' in label.values():\n",
    "        ms=[]\n",
    "        for i in range(n):\n",
    "            if label[tsp[i]]!='simple' or tsp[i]==depot:\n",
    "                ms.append(-float('inf'))\n",
    "            else:\n",
    "                mfsi=t_cost(V[tsp[i-1]],V[tsp[i]])+t_cost(V[tsp[i]],V[tsp[(i+1)%n]])-max(d_cost(V[tsp[i-1]],V[tsp[i]])+d_cost(V[tsp[i]],V[tsp[(i+1)%n]]),t_cost(V[tsp[i-1]],V[tsp[(i+1)%n]]))\n",
    "                ms.append(mfsi)\n",
    "        for i in range(n):\n",
    "            if label[tsp[i-1]]=='combined' and tsp[(i-1)]!=depot:\n",
    "                if label[tsp[i]]=='simple':\n",
    "                    j=i-2\n",
    "                    while label[tsp[j]]!='combined':\n",
    "                        if label[tsp[j]]=='drone':\n",
    "                            dronenode=j\n",
    "                        if label[tsp[(j-1)]]=='combined':\n",
    "                            pls=t_cost(V[tsp[i-1]],V[tsp[i]])+operation[(tsp[dronenode],tsp[j-1],tsp[i-1])]-max(d_cost(V[tsp[j-1]],V[tsp[dronenode]])+d_cost(V[tsp[dronenode]],V[tsp[i]]),driveop[(tsp[dronenode],tsp[j-1],tsp[i-1])]+t_cost(V[tsp[i-1]],V[tsp[i]]))\n",
    "                            ms.append(pls)\n",
    "                            break\n",
    "                        j=j-1  \n",
    "                else: ms.append(-float('inf'))\n",
    "            else: ms.append(-float('inf'))\n",
    "        for i in range(n):\n",
    "            if label[tsp[(i+1)%n]]=='combined' and tsp[(i+1)%n]!=depot:\n",
    "                if label[tsp[i]]=='simple':\n",
    "                    j=(i+2)%n\n",
    "                    while label[tsp[j]]!='combined':\n",
    "                        if label[tsp[j]]=='drone':\n",
    "                            dronenode=j\n",
    "                        if label[tsp[(j+1)%n]]=='combined':\n",
    "                            prs=t_cost(V[tsp[i]],V[tsp[(i+1)%n]])+operation[(tsp[dronenode],tsp[(i+1)%n],tsp[(j+1)%n])]-max(d_cost(V[tsp[i]],V[tsp[dronenode]])+d_cost(V[tsp[dronenode]],V[tsp[(j+1)%n]]),driveop[(tsp[dronenode],tsp[(i+1)%n],tsp[(j+1)%n])]+t_cost(V[tsp[i]],V[tsp[(i+1)%n]]))\n",
    "                            ms.append(prs)\n",
    "                            break\n",
    "                        j=(j+1)%n\n",
    "                else: ms.append(-float('inf'))\n",
    "            else: ms.append(-float('inf'))\n",
    "        i = numpy.argmax(ms)\n",
    "        if ms[i]>0:\n",
    "            tspdtotal=tspdtotal-ms[i]\n",
    "            if i//n==0:#makeflysaving\n",
    "                label[tsp[i]]='drone'\n",
    "                label[tsp[i-1]]='combined'\n",
    "                label[tsp[(i+1)%n]]='combined'\n",
    "                flyop[(tsp[i],tsp[i-1],tsp[(i+1)%n])]=d_cost(V[tsp[i-1]],V[tsp[i]])+d_cost(V[tsp[i]],V[tsp[(i+1)%n]])\n",
    "                driveop[(tsp[i],tsp[i-1],tsp[(i+1)%n])]=t_cost(V[tsp[i-1]],V[tsp[(i+1)%n]])\n",
    "                operation[(tsp[i],tsp[i-1],tsp[(i+1)%n])]=max(flyop[(tsp[i],tsp[i-1],tsp[(i+1)%n])],driveop[(tsp[i],tsp[i-1],tsp[(i+1)%n])])\n",
    "            elif i//n==1:#pushleftsaving\n",
    "                label[tsp[i%n]]='combined'\n",
    "                label[tsp[(i-1)%n]]='truck'\n",
    "                j=(i-2)%n\n",
    "                while label[tsp[j]]!='combined':\n",
    "                    if label[tsp[j]]=='drone':\n",
    "                        dronenode=j\n",
    "                    if label[tsp[j-1]]=='combined':\n",
    "                        flyop[(tsp[dronenode],tsp[j-1],tsp[i%n])]=d_cost(V[tsp[j-1]],V[tsp[dronenode]])+d_cost(V[tsp[dronenode]],V[tsp[i%n]])\n",
    "                        driveop[(tsp[dronenode],tsp[j-1],tsp[i%n])]=driveop[(tsp[dronenode],tsp[j-1],tsp[(i-1)%n])]+t_cost(V[tsp[(i-1)%n]],V[tsp[i%n]])\n",
    "                        operation[(tsp[dronenode],tsp[j-1],tsp[i%n])]=max(flyop[(tsp[dronenode],tsp[j-1],tsp[i%n])],driveop[(tsp[dronenode],tsp[j-1],tsp[i%n])])\n",
    "                        break\n",
    "                    j=j-1\n",
    "            elif i//n==2:#pushrightsaving\n",
    "                label[tsp[i%n]]='combined'\n",
    "                label[tsp[(i+1)%n]]='truck'\n",
    "                j=(i+2)%n\n",
    "                while label[tsp[j]]!='combined':\n",
    "                    if label[tsp[j]]=='drone':\n",
    "                        dronenode=j\n",
    "                    if label[tsp[(j+1)%n]]=='combined':\n",
    "                        flyop[(tsp[dronenode],tsp[i%n],tsp[(j+1)%n])]=d_cost(V[tsp[i%n]],V[tsp[dronenode]])+d_cost(V[tsp[dronenode]],V[tsp[(j+1)%n]])\n",
    "                        driveop[(tsp[dronenode],tsp[i%n],tsp[(j+1)%n])]=driveop[(tsp[dronenode],tsp[(i+1)%n],tsp[(j+1)%n])]+t_cost(V[tsp[i%n]],V[tsp[(i+1)%n]])\n",
    "                        operation[(tsp[dronenode],tsp[i%n],tsp[(j+1)%n])]=max(flyop[(tsp[dronenode],tsp[i%n],tsp[(j+1)%n])],driveop[(tsp[dronenode],tsp[i%n],tsp[(j+1)%n])])\n",
    "                        break\n",
    "                    j=(j+1)%n\n",
    "        else:\n",
    "            for l in label:\n",
    "                if label[l]=='simple':\n",
    "                    label[l]='combined'\n",
    "\n",
    "      \n",
    "    return tspdtotal,label\n",
    "            "
   ]
  },
  {
   "cell_type": "code",
   "execution_count": 8,
   "metadata": {},
   "outputs": [],
   "source": [
    "def greedy_ph(alg,V,depot):\n",
    "    tsp=alg(V)\n",
    "    return greedy_core(tsp,depot)"
   ]
  },
  {
   "cell_type": "code",
   "execution_count": 13,
   "metadata": {},
   "outputs": [
    {
     "data": {
      "text/plain": [
       "(135.6684277355113,\n",
       " {0: 'combined',\n",
       "  6: 'drone',\n",
       "  4: 'combined',\n",
       "  1: 'drone',\n",
       "  7: 'combined',\n",
       "  8: 'drone',\n",
       "  9: 'combined',\n",
       "  3: 'combined',\n",
       "  2: 'drone',\n",
       "  5: 'combined'})"
      ]
     },
     "execution_count": 13,
     "metadata": {},
     "output_type": "execute_result"
    }
   ],
   "source": [
    "greedy_ph(two_opt,V,0)"
   ]
  },
  {
   "cell_type": "code",
   "execution_count": 14,
   "metadata": {},
   "outputs": [
    {
     "data": {
      "text/plain": [
       "(123.4987331590489,\n",
       " {0: 'combined',\n",
       "  6: 'combined',\n",
       "  4: 'drone',\n",
       "  2: 'combined',\n",
       "  3: 'combined',\n",
       "  9: 'truck',\n",
       "  8: 'drone',\n",
       "  7: 'combined',\n",
       "  1: 'drone',\n",
       "  5: 'truck'})"
      ]
     },
     "execution_count": 14,
     "metadata": {},
     "output_type": "execute_result"
    }
   ],
   "source": [
    "greedy_ph(mst,V,0)"
   ]
  },
  {
   "cell_type": "code",
   "execution_count": null,
   "metadata": {},
   "outputs": [],
   "source": []
  }
 ],
 "metadata": {
  "kernelspec": {
   "display_name": "Python 3",
   "language": "python",
   "name": "python3"
  },
  "language_info": {
   "codemirror_mode": {
    "name": "ipython",
    "version": 3
   },
   "file_extension": ".py",
   "mimetype": "text/x-python",
   "name": "python",
   "nbconvert_exporter": "python",
   "pygments_lexer": "ipython3",
   "version": "3.7.6"
  }
 },
 "nbformat": 4,
 "nbformat_minor": 4
}
