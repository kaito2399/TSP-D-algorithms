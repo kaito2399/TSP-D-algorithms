{
 "cells": [
  {
   "cell_type": "code",
   "execution_count": 18,
   "metadata": {},
   "outputs": [],
   "source": [
    "def t_cost(s,t): return ((s[0]-t[0])**2+(s[1]-t[1])**2)**(0.5)\n",
    "def d_cost(s,t): return (1/alpha)*(((s[0]-t[0])**2+(s[1]-t[1])**2)**(0.5))\n",
    "alpha=1"
   ]
  },
  {
   "cell_type": "code",
   "execution_count": 96,
   "metadata": {},
   "outputs": [],
   "source": [
    "#最適解を出力するアルゴリズム\n",
    "import itertools\n",
    "def dynamic(V,v0):\n",
    "    n=len(V)\n",
    "    Dt={}\n",
    "    truck={}\n",
    "    for i in range(1,n+1):\n",
    "        for a in itertools.combinations(range(n),i):\n",
    "            S=frozenset(a)\n",
    "            for v in range(n):#始点\n",
    "                for w in S:#終点\n",
    "                    Dt[(S,v,w)]=float('inf')#無限大に初期化\n",
    "                    if i==1:\n",
    "                        Dt[(S,v,w)]=t_cost(V[v],V[w])\n",
    "                        truck[(S,v,w)]=[w]\n",
    "                    else:\n",
    "                        Sw=S-set([w])\n",
    "                        for u in Sw:\n",
    "                            z=Dt[(Sw,v,u)]+t_cost(V[u],V[w])\n",
    "                            p=truck[(Sw,v,u)]+[w]\n",
    "                            if z<Dt[(S,v,w)]:\n",
    "                                Dt[(S,v,w)]=z\n",
    "                                truck[(S,v,w)]=p\n",
    "                                                         \n",
    "    Dop={}\n",
    "    operation={}\n",
    "    for i in range(1,n+1):\n",
    "        for a in itertools.combinations(range(n),i):\n",
    "            S=frozenset(a)\n",
    "            for v in range(n):#始点\n",
    "                for w in S:#終点\n",
    "                    Dop[(S,v,w)]=Dt[(S,v,w)]#初期値\n",
    "                    operation[(S,v,w)]=truck[(S,v,w)]\n",
    "                    if i==1:\n",
    "                        Dop[(S,v,w)]=Dt[(S,v,w)]\n",
    "                        operation[(S,v,w)]=truck[(S,v,w)]\n",
    "                    else:\n",
    "                        Svw=S-set([v])-set([w])\n",
    "                        for d in Svw:\n",
    "                            drone_cost=d_cost(V[v],V[d])+d_cost(V[d],V[w])\n",
    "                            Sd=S-set([d])\n",
    "                            z=max(drone_cost,Dt[(Sd,v,w)])\n",
    "                            if z<Dop[(S,v,w)]:\n",
    "                                Dop[(S,v,w)]=z\n",
    "                                operation[(S,v,w)]=truck[(Sd,v,w)]+[[d]]    \n",
    "                         \n",
    "    D={}\n",
    "    route={}\n",
    "    for i in range(1,n+1):\n",
    "        for a in itertools.combinations(range(n),i):\n",
    "            S=frozenset(a)\n",
    "            for w in S:\n",
    "                D[(S,w)]=float('inf')\n",
    "    for i in range(n):\n",
    "        D[(frozenset({i}),i)]=Dop[(frozenset({i}),v0,i)]\n",
    "        route[(frozenset({i}),i)]=[operation[(frozenset({i}),v0,i)]]\n",
    "    for i in range(1,n+1):\n",
    "        for a in itertools.combinations(range(n),i):\n",
    "            U=set(a)#Vの部分集合\n",
    "            T=set(range(n))-U#T=V-U\n",
    "            for j in range(1,len(T)+1):\n",
    "                for b in itertools.combinations(T,j):\n",
    "                    Tset=set(b)#Tの部分集合\n",
    "                    for u in U:\n",
    "                        for w in range(n):\n",
    "                            z=D[(frozenset(U),u)]+Dop[(frozenset(Tset|{w}),u,w)]\n",
    "                            p=route[(frozenset(U),u)]+[operation[(frozenset(Tset|{w}),u,w)]]\n",
    "                            if z<D[(frozenset(U|Tset|{u,w}),w)]:\n",
    "                                D[(frozenset(U|Tset|{u,w}),w)]=z\n",
    "                                route[(frozenset(U|Tset|{u,w}),w)]=p\n",
    "                                \n",
    "                                \n",
    "    path=route[(frozenset(range(n)),v0)]\n",
    "        \n",
    "    return D[(frozenset(range(n)),v0)],path\n",
    "                            \n",
    "                    \n",
    "                  \n"
   ]
  },
  {
   "cell_type": "code",
   "execution_count": 97,
   "metadata": {},
   "outputs": [],
   "source": [
    "import random\n",
    "n=3\n",
    "V = [(random.uniform(5,75),random.uniform(5,55))]\n",
    "alpha=2"
   ]
  },
  {
   "cell_type": "code",
   "execution_count": 98,
   "metadata": {},
   "outputs": [],
   "source": [
    "V=[(0,0),(3,0),(0,4)]"
   ]
  },
  {
   "cell_type": "code",
   "execution_count": 99,
   "metadata": {},
   "outputs": [
    {
     "name": "stdout",
     "output_type": "stream",
     "text": [
      "36\n"
     ]
    },
    {
     "data": {
      "text/plain": [
       "(6.0, [[0], [1, 0, [2]]])"
      ]
     },
     "execution_count": 99,
     "metadata": {},
     "output_type": "execute_result"
    }
   ],
   "source": [
    "dynamic(V,0)"
   ]
  },
  {
   "cell_type": "code",
   "execution_count": null,
   "metadata": {},
   "outputs": [],
   "source": []
  }
 ],
 "metadata": {
  "kernelspec": {
   "display_name": "Python 3",
   "language": "python",
   "name": "python3"
  },
  "language_info": {
   "codemirror_mode": {
    "name": "ipython",
    "version": 3
   },
   "file_extension": ".py",
   "mimetype": "text/x-python",
   "name": "python",
   "nbconvert_exporter": "python",
   "pygments_lexer": "ipython3",
   "version": "3.7.6"
  }
 },
 "nbformat": 4,
 "nbformat_minor": 4
}
