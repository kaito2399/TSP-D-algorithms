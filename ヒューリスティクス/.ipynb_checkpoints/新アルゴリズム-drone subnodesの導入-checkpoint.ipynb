{
 "cells": [
  {
   "cell_type": "code",
   "execution_count": 1,
   "metadata": {},
   "outputs": [],
   "source": [
    "import random\n",
    "n=12\n",
    "V = [(random.uniform(5,75),random.uniform(5,55)) for i in range(n)]\n",
    "import matplotlib.pyplot as plt\n",
    "alpha=2"
   ]
  },
  {
   "cell_type": "code",
   "execution_count": 2,
   "metadata": {},
   "outputs": [
    {
     "data": {
      "text/plain": [
       "[(15.977031306544324, 43.70440930047421),\n",
       " (17.22807058322337, 28.50464207970468),\n",
       " (71.67709404991697, 43.17396798057854),\n",
       " (51.71967501677885, 25.147031232398472),\n",
       " (16.255997763820947, 44.86591843899375),\n",
       " (38.5711128766455, 11.303429241786034),\n",
       " (40.21274745799892, 49.146523380227535),\n",
       " (39.212823820392174, 5.798467708874728),\n",
       " (73.91660711929025, 37.17972954895307),\n",
       " (35.106622859639515, 42.512696938574365),\n",
       " (14.097420753739593, 22.306489019254386),\n",
       " (59.69416594441446, 11.186987974143054)]"
      ]
     },
     "execution_count": 2,
     "metadata": {},
     "output_type": "execute_result"
    }
   ],
   "source": [
    "V"
   ]
  },
  {
   "cell_type": "code",
   "execution_count": 3,
   "metadata": {},
   "outputs": [],
   "source": [
    "alpha=2\n",
    "def t_cost(s,t): return ((s[0]-t[0])**2+(s[1]-t[1])**2)**(0.5)\n",
    "def d_cost(s,t): return (1/alpha)*(((s[0]-t[0])**2+(s[1]-t[1])**2)**(0.5))"
   ]
  },
  {
   "cell_type": "code",
   "execution_count": 4,
   "metadata": {},
   "outputs": [],
   "source": [
    "def tpath_pathcost(start,end,tpath):\n",
    "    pathcost=0\n",
    "    a=tpath.index(start)\n",
    "    b=tpath.index(end)\n",
    "    if a<b:\n",
    "        for i in range(a,b):\n",
    "            pathcost=pathcost+t_cost(V[tpath[i]],V[tpath[(i+1)%len(tpath)]])\n",
    "    if a>b:\n",
    "        for i in range(a,len(tpath)):\n",
    "            pathcost=pathcost+t_cost(V[tpath[i]],V[tpath[(i+1)%len(tpath)]])\n",
    "        for i in range(b):\n",
    "            pathcost=pathcost+t_cost(V[tpath[i]],V[tpath[(i+1)%len(tpath)]])\n",
    "    if a==b:\n",
    "        pathcost=0\n",
    "            \n",
    "    return pathcost"
   ]
  },
  {
   "cell_type": "code",
   "execution_count": 5,
   "metadata": {},
   "outputs": [],
   "source": [
    "def center(V):\n",
    "    x=[]\n",
    "    y=[]\n",
    "    for i in range(n):\n",
    "        x.append(V[i][0])\n",
    "        y.append(V[i][1])\n",
    "    return [sum(x)/n,sum(y)/n]"
   ]
  },
  {
   "cell_type": "code",
   "execution_count": 6,
   "metadata": {},
   "outputs": [],
   "source": [
    "import itertools\n",
    "import matplotlib.pyplot as plt\n",
    "def two_opt_truck(ps,truck_nodes):\n",
    "    n = len(ps)\n",
    "    res = list(range(n))\n",
    "    update = True\n",
    "    while update:\n",
    "        update = False\n",
    "        for (i,j) in itertools.combinations(range(n),2):\n",
    "            if ((t_cost(ps[res[i]],ps[res[i+1]])+t_cost(ps[res[j]],ps[res[(j+1)%n]]))>\n",
    "                (t_cost(ps[res[i]],ps[res[j]])+t_cost(ps[res[i+1]],ps[res[(j+1)%n]]))):\n",
    "                res[i+1:j+1] = res[j:i:-1]\n",
    "                update = True\n",
    "                \n",
    "    path=[truck_nodes[i] for i in res]\n",
    "\n",
    "    return path"
   ]
  },
  {
   "cell_type": "code",
   "execution_count": 7,
   "metadata": {},
   "outputs": [],
   "source": [
    "def dp_truck(ps,truck_nodes):\n",
    "    length = {} # length[(u,S)]: u を始点とし S の点すべてを回る最小経路長、ディクショナリ\n",
    "    route = {} # route[(u,S)]: 最小経路長を達成するためのルート、ディクショナリ\n",
    "    v = ps[0]\n",
    "    n = len(ps)\n",
    "    for i in range(1,n+1):\n",
    "        for a in itertools.combinations(range(n),i):\n",
    "            S = frozenset(a)\n",
    "            for j in S:\n",
    "                u = ps[j]\n",
    "                if i==1:\n",
    "                    length[(j,S)] = t_cost(v,u)\n",
    "                    route[(j,S)] = [j]\n",
    "                else:\n",
    "                    Sj = S-set([j]) # S から j を除いたもの\n",
    "                    k=min(Sj,key=lambda k: length[(k,Sj)]+t_cost(ps[k],u))#Sjの中でlength[(k,Sj)]+dist(ps[k],u)が最小のものを返している\n",
    "                    length[(j,S)] = length[(k,Sj)]+t_cost(ps[k],u)\n",
    "                    route[(j,S)] = route[(k,Sj)]+[j]\n",
    "    path=[truck_nodes[i] for i in route[(0,frozenset(range(n)))]]\n",
    "    \n",
    "    return path "
   ]
  },
  {
   "cell_type": "code",
   "execution_count": 8,
   "metadata": {},
   "outputs": [],
   "source": [
    "#トラックのルートをdpで求める\n",
    "import itertools\n",
    "def newalgo_dp_sub(V):\n",
    "    n=len(V)\n",
    "    ndmin=2\n",
    "    ndmax=n//2\n",
    "    m=1\n",
    "    c=center(V)\n",
    "    D={}\n",
    "    result=[]\n",
    "    for nd in range(ndmin,ndmax+1):\n",
    "        length={i:t_cost(c,V[i]) for i in range(n)}\n",
    "        drone_nodes=[]\n",
    "        truck_nodes=[]\n",
    "        drone_subnodes=[]\n",
    "        initial_drone=[max(length, key=length.get)]\n",
    "        del length[max(length, key=length.get)]\n",
    "        for i in range(nd+m):\n",
    "            drone_subnodes.append(max(length, key=length.get))\n",
    "            del length[max(length, key=length.get)]\n",
    "        for s in itertools.combinations(drone_subnodes,nd-1):\n",
    "            drone_nodes=initial_drone+list(s)\n",
    "            truck_nodes=list(set(range(n))-set(drone_nodes))\n",
    "\n",
    "\n",
    "            T={}\n",
    "            t=[V[i] for i in truck_nodes]\n",
    "            tpath=two_opt_truck(t,truck_nodes)\n",
    "            for drone in drone_nodes:\n",
    "                for (start,end) in itertools.permutations(tpath,2):\n",
    "                    drone_cost=d_cost(V[start],V[drone])+d_cost(V[drone],V[end])\n",
    "                    truck_cost=tpath_pathcost(start,end,tpath)\n",
    "                    T[start,drone,end]=max(drone_cost,truck_cost)\n",
    "\n",
    "\n",
    "            #ドローンとトラックが一緒に移動する場合は考えない\n",
    "            dc=[b for b in itertools.permutations(drone_nodes,nd)]\n",
    "            tc=[a for a in itertools.combinations(tpath,nd)]\n",
    "            for comb in itertools.product(tc,dc):\n",
    "                d=0\n",
    "                for j in range(nd):\n",
    "                    d=d+T[comb[0][j],comb[1][j],comb[0][(j+1)%nd]]\n",
    "                D[comb]=d\n",
    "\n",
    "            result.append(min(D.values()))      \n",
    "\n",
    "    res=min(result)\n",
    "    return res"
   ]
  },
  {
   "cell_type": "code",
   "execution_count": 9,
   "metadata": {},
   "outputs": [
    {
     "data": {
      "text/plain": [
       "130.70812659342926"
      ]
     },
     "execution_count": 9,
     "metadata": {},
     "output_type": "execute_result"
    }
   ],
   "source": [
    "newalgo_dp_sub(V)"
   ]
  },
  {
   "cell_type": "code",
   "execution_count": null,
   "metadata": {},
   "outputs": [],
   "source": []
  }
 ],
 "metadata": {
  "kernelspec": {
   "display_name": "Python 3",
   "language": "python",
   "name": "python3"
  },
  "language_info": {
   "codemirror_mode": {
    "name": "ipython",
    "version": 3
   },
   "file_extension": ".py",
   "mimetype": "text/x-python",
   "name": "python",
   "nbconvert_exporter": "python",
   "pygments_lexer": "ipython3",
   "version": "3.7.6"
  }
 },
 "nbformat": 4,
 "nbformat_minor": 4
}
