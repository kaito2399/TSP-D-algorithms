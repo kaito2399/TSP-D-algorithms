{
 "cells": [
  {
   "cell_type": "code",
   "execution_count": 2,
   "metadata": {},
   "outputs": [],
   "source": [
    "import random\n",
    "n=12\n",
    "V = [(random.uniform(5,75),random.uniform(5,55)) for i in range(n)]\n",
    "import matplotlib.pyplot as plt\n",
    "alpha=2"
   ]
  },
  {
   "cell_type": "code",
   "execution_count": 3,
   "metadata": {},
   "outputs": [],
   "source": [
    "alpha=2\n",
    "def t_cost(s,t): return ((s[0]-t[0])**2+(s[1]-t[1])**2)**(0.5)\n",
    "def d_cost(s,t): return (1/alpha)*(((s[0]-t[0])**2+(s[1]-t[1])**2)**(0.5))"
   ]
  },
  {
   "cell_type": "code",
   "execution_count": 12,
   "metadata": {},
   "outputs": [],
   "source": [
    "def shiwake(V):\n",
    "    sashugo={}\n",
    "    for p in range(n):\n",
    "        qp={i:t_cost(V[p],V[i]) for i in range(n)}\n",
    "        del qp[p]\n",
    "        rp={i:d_cost(V[p],V[i]) for i in range(n)}\n",
    "        del rp[p]\n",
    "        for i in qp:\n",
    "            sa=min(qp.values())-max(rp.values())\n",
    "            sashugo[p]=sa\n",
    "    return sashugo"
   ]
  },
  {
   "cell_type": "code",
   "execution_count": 13,
   "metadata": {},
   "outputs": [
    {
     "data": {
      "text/plain": [
       "{0: -15.512322902215784,\n",
       " 1: -17.39062675481653,\n",
       " 2: -11.85363279063718,\n",
       " 3: -18.495593049049585,\n",
       " 4: -6.516741866479878,\n",
       " 5: -7.608382202245105,\n",
       " 6: -14.859050470514712,\n",
       " 7: -18.09511906803781,\n",
       " 8: -19.614613396433988,\n",
       " 9: -16.58277116183389,\n",
       " 10: -20.234101397793452,\n",
       " 11: -20.889603014229927}"
      ]
     },
     "execution_count": 13,
     "metadata": {},
     "output_type": "execute_result"
    }
   ],
   "source": [
    "shiwake(V)"
   ]
  },
  {
   "cell_type": "code",
   "execution_count": null,
   "metadata": {},
   "outputs": [],
   "source": [
    "def tpath_pathcost(start,end,tpath):\n",
    "    pathcost=0\n",
    "    a=tpath.index(start)\n",
    "    b=tpath.index(end)\n",
    "    if a<b:\n",
    "        for i in range(a,b):\n",
    "            pathcost=pathcost+t_cost(V[tpath[i]],V[tpath[(i+1)%len(tpath)]])\n",
    "    if a>b:\n",
    "        for i in range(a,len(tpath)):\n",
    "            pathcost=pathcost+t_cost(V[tpath[i]],V[tpath[(i+1)%len(tpath)]])\n",
    "        for i in range(b):\n",
    "            pathcost=pathcost+t_cost(V[tpath[i]],V[tpath[(i+1)%len(tpath)]])\n",
    "    if a==b:\n",
    "        pathcost=0\n",
    "            \n",
    "    return pathcost"
   ]
  },
  {
   "cell_type": "code",
   "execution_count": null,
   "metadata": {},
   "outputs": [],
   "source": [
    "import itertools\n",
    "import matplotlib.pyplot as plt\n",
    "def two_opt_truck(ps,truck_nodes):\n",
    "    n = len(ps)\n",
    "    res = list(range(n))\n",
    "    update = True\n",
    "    while update:\n",
    "        update = False\n",
    "        for (i,j) in itertools.combinations(range(n),2):\n",
    "            if ((t_cost(ps[res[i]],ps[res[i+1]])+t_cost(ps[res[j]],ps[res[(j+1)%n]]))>\n",
    "                (t_cost(ps[res[i]],ps[res[j]])+t_cost(ps[res[i+1]],ps[res[(j+1)%n]]))):\n",
    "                res[i+1:j+1] = res[j:i:-1]\n",
    "                update = True\n",
    "                \n",
    "    path=[truck_nodes[i] for i in res]\n",
    "\n",
    "    return path"
   ]
  },
  {
   "cell_type": "code",
   "execution_count": null,
   "metadata": {},
   "outputs": [],
   "source": [
    "def dp_truck(ps,truck_nodes):\n",
    "    length = {} # length[(u,S)]: u を始点とし S の点すべてを回る最小経路長、ディクショナリ\n",
    "    route = {} # route[(u,S)]: 最小経路長を達成するためのルート、ディクショナリ\n",
    "    v = ps[0]\n",
    "    n = len(ps)\n",
    "    for i in range(1,n+1):\n",
    "        for a in itertools.combinations(range(n),i):\n",
    "            S = frozenset(a)\n",
    "            for j in S:\n",
    "                u = ps[j]\n",
    "                if i==1:\n",
    "                    length[(j,S)] = t_cost(v,u)\n",
    "                    route[(j,S)] = [j]\n",
    "                else:\n",
    "                    Sj = S-set([j]) # S から j を除いたもの\n",
    "                    k=min(Sj,key=lambda k: length[(k,Sj)]+t_cost(ps[k],u))#Sjの中でlength[(k,Sj)]+dist(ps[k],u)が最小のものを返している\n",
    "                    length[(j,S)] = length[(k,Sj)]+t_cost(ps[k],u)\n",
    "                    route[(j,S)] = route[(k,Sj)]+[j]\n",
    "    path=[truck_nodes[i] for i in route[(0,frozenset(range(n)))]]\n",
    "    \n",
    "    return path "
   ]
  },
  {
   "cell_type": "code",
   "execution_count": 14,
   "metadata": {},
   "outputs": [],
   "source": [
    "#トラックのルートをdp（動的計画）で求める\n",
    "#ドローンを理論的に仕分ける\n",
    "import itertools\n",
    "def newalgo_dp(V):\n",
    "    n=len(V)\n",
    "    ndmin=2\n",
    "    ndmax=n//2\n",
    "    D={}\n",
    "    for nd in range(ndmin,ndmax+1):\n",
    "#         length={i:t_cost(c,V[i]) for i in range(n)}\n",
    "        length=shiwake(V)\n",
    "        drone_nodes=[]\n",
    "        truck_nodes=[]\n",
    "        T={}\n",
    "        for i in range(nd):\n",
    "            drone_nodes.append(max(length, key=length.get))\n",
    "            del length[max(length, key=length.get)]\n",
    "        truck_nodes=list(set(range(n))-set(drone_nodes))\n",
    "        \n",
    "        \n",
    "        \n",
    "        \n",
    "        \n",
    "        t=[V[i] for i in truck_nodes]\n",
    "        tpath=dp_truck(t,truck_nodes)\n",
    "        for drone in drone_nodes:\n",
    "            for (start,end) in itertools.permutations(tpath,2):\n",
    "                drone_cost=d_cost(V[start],V[drone])+d_cost(V[drone],V[end])\n",
    "                truck_cost=tpath_pathcost(start,end,tpath)\n",
    "                T[start,drone,end]=max(drone_cost,truck_cost)\n",
    "\n",
    "\n",
    "\n",
    "        tc=[a for a in itertools.combinations(tpath,nd)]\n",
    "        dc=[b for b in itertools.permutations(drone_nodes,nd)]\n",
    "        for comb in itertools.product(tc,dc):\n",
    "            d=0\n",
    "            for j in range(nd):\n",
    "                d=d+T[comb[0][j],comb[1][j],comb[0][(j+1)%nd]]\n",
    "            D[comb]=d,tpath\n",
    "                \n",
    "    res=min(D.values()) \n",
    "    path=min(D,key=D.get)\n",
    "        \n",
    "        \n",
    "    return res,path"
   ]
  },
  {
   "cell_type": "code",
   "execution_count": null,
   "metadata": {},
   "outputs": [],
   "source": []
  }
 ],
 "metadata": {
  "kernelspec": {
   "display_name": "Python 3",
   "language": "python",
   "name": "python3"
  },
  "language_info": {
   "codemirror_mode": {
    "name": "ipython",
    "version": 3
   },
   "file_extension": ".py",
   "mimetype": "text/x-python",
   "name": "python",
   "nbconvert_exporter": "python",
   "pygments_lexer": "ipython3",
   "version": "3.7.6"
  }
 },
 "nbformat": 4,
 "nbformat_minor": 4
}
