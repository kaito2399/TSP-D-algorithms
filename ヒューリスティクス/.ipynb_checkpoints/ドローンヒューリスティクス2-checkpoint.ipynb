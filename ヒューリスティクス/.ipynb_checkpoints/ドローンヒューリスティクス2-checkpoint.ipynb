{
 "cells": [
  {
   "cell_type": "code",
   "execution_count": 1,
   "metadata": {},
   "outputs": [],
   "source": [
    "import random\n",
    "n=10\n",
    "V = [(random.uniform(5,75),random.uniform(5,55)) for i in range(n)]\n",
    "import matplotlib.pyplot as plt\n",
    "alpha=0.5"
   ]
  },
  {
   "cell_type": "code",
   "execution_count": 2,
   "metadata": {},
   "outputs": [
    {
     "data": {
      "text/plain": [
       "[(35.49807467920017, 34.977851453803616),\n",
       " (31.630604832086757, 52.129829201169144),\n",
       " (49.06116710139207, 14.36280834868915),\n",
       " (73.87123847531782, 30.009104483673433),\n",
       " (34.04054302354744, 51.16501579596008),\n",
       " (22.681001081635255, 37.377870485920376),\n",
       " (49.55568444717161, 33.16210452633986),\n",
       " (69.71384004585671, 24.482875427712315),\n",
       " (51.9479695794449, 13.800118528095368),\n",
       " (51.221502615399054, 44.75939241517767)]"
      ]
     },
     "execution_count": 2,
     "metadata": {},
     "output_type": "execute_result"
    }
   ],
   "source": [
    "V"
   ]
  },
  {
   "cell_type": "code",
   "execution_count": 3,
   "metadata": {},
   "outputs": [],
   "source": [
    "def t_cost(s,t): return ((s[0]-t[0])**2+(s[1]-t[1])**2)**(0.5)\n",
    "def d_cost(s,t): return alpha*(((s[0]-t[0])**2+(s[1]-t[1])**2)**(0.5))\n",
    "alpha=0.5"
   ]
  },
  {
   "cell_type": "code",
   "execution_count": 4,
   "metadata": {},
   "outputs": [],
   "source": [
    "import itertools\n",
    "import matplotlib.pyplot as plt\n",
    "def two_opt(ps):\n",
    "    n = len(ps)\n",
    "    res = list(range(n))\n",
    "    update = True\n",
    "    while update:\n",
    "        update = False\n",
    "        for (i,j) in itertools.combinations(range(n),2):\n",
    "            if ((t_cost(ps[res[i]],ps[res[i+1]])+t_cost(ps[res[j]],ps[res[(j+1)%n]]))>\n",
    "                (t_cost(ps[res[i]],ps[res[j]])+t_cost(ps[res[i+1]],ps[res[(j+1)%n]]))):\n",
    "                res[i+1:j+1] = res[j:i:-1]\n",
    "                update = True\n",
    "                \n",
    "#     for i in range(n):\n",
    "#         plt.scatter(ps[i][0],ps[i][1],c='k')\n",
    "#         connect_x=[ps[res[i]][0],ps[res[(i+1)%len(ps)]][0]]\n",
    "#         connect_y=[ps[res[i]][1],ps[res[(i+1)%len(ps)]][1]]\n",
    "#         plt.plot(connect_x,connect_y, c='red')\n",
    "    return res"
   ]
  },
  {
   "cell_type": "code",
   "execution_count": 5,
   "metadata": {},
   "outputs": [],
   "source": [
    "# two_opt(V)"
   ]
  },
  {
   "cell_type": "code",
   "execution_count": 6,
   "metadata": {},
   "outputs": [],
   "source": [
    "def t_pathcost(a,b,tsp):\n",
    "    pathcost=0\n",
    "    if a<b:\n",
    "        for i in range(a,b):\n",
    "            pathcost=pathcost+t_cost(V[tsp[i]],V[tsp[(i+1)%n]])\n",
    "    if a>b:\n",
    "        for i in range(a,len(tsp)):\n",
    "            pathcost=pathcost+t_cost(V[tsp[i]],V[tsp[(i+1)%len(tsp)]])\n",
    "        for i in range(b):\n",
    "            pathcost=pathcost+t_cost(V[tsp[i]],V[tsp[(i+1)%len(tsp)]])\n",
    "    if a==b:\n",
    "        pathcost=0\n",
    "            \n",
    "    return pathcost"
   ]
  },
  {
   "cell_type": "code",
   "execution_count": 7,
   "metadata": {},
   "outputs": [],
   "source": [
    "import itertools\n",
    "def heuristic2(tsp):\n",
    "    T={}\n",
    "    M={}\n",
    "    D={}\n",
    "    Mdrone={}\n",
    "    route={}\n",
    "    n=len(tsp)\n",
    "    for (start,drone,end) in itertools.combinations(range(n),3):\n",
    "        drone_cost=d_cost(V[tsp[start]],V[tsp[drone]])+d_cost(V[tsp[drone]],V[tsp[end]])\n",
    "        truck_cost=t_pathcost(start,drone-1,tsp)+t_cost(V[tsp[drone-1]],V[tsp[drone+1]])+t_pathcost(drone+1,end,tsp)\n",
    "        T[start,drone,end]=max(drone_cost,truck_cost)\n",
    "    for (end,start,drone) in itertools.combinations(range(n),3):\n",
    "        drone_cost=d_cost(V[tsp[start]],V[tsp[drone]])+d_cost(V[tsp[drone]],V[tsp[end]])\n",
    "        truck_cost=t_pathcost(start,drone-1,tsp)+t_cost(V[tsp[drone-1]],V[tsp[(drone+1)%n]])+t_pathcost((drone+1)%n,end,tsp)\n",
    "        T[start,drone,end]=max(drone_cost,truck_cost)\n",
    "    for (drone,end,start) in itertools.combinations(range(n),3):\n",
    "        drone_cost=d_cost(V[tsp[start]],V[tsp[drone]])+d_cost(V[tsp[drone]],V[tsp[end]])\n",
    "        truck_cost=t_pathcost(start,drone-1,tsp)+t_cost(V[tsp[drone-1]],V[tsp[(drone+1)%n]])+t_pathcost((drone+1)%n,end,tsp)\n",
    "        T[start,drone,end]=max(drone_cost,truck_cost)\n",
    "        \n",
    "    for (i,j) in itertools.permutations(range(n),2):\n",
    "        M[i,j]=float('inf')\n",
    "        if i<j:\n",
    "            if i+1==j:\n",
    "                M[i,j]=t_cost(V[tsp[i]],V[tsp[j]])\n",
    "            for k in range(i+1,j):\n",
    "                if M[i,j]>T[i,k,j]:\n",
    "                    M[i,j]=T[i,k,j]\n",
    "                    Mdrone[i,j]=[k]\n",
    "        else:\n",
    "            for k in range(i+1,n):\n",
    "                if M[i,j]>T[i,k,j]:\n",
    "                    M[i,j]=T[i,k,j]\n",
    "                    Mdrone[i,j]=[k]\n",
    "            for k in range(0,j):\n",
    "                if M[i,j]>T[i,k,j]:\n",
    "                    M[i,j]=T[i,k,j]\n",
    "                    Mdrone[i,j]=[k]\n",
    "            M[n-1,0]=t_cost(V[tsp[n-1]],V[tsp[0]])\n",
    "\n",
    "    for depot in range(n):\n",
    "        for i in range(depot,depot+n+1):\n",
    "            D[depot,i%n]=float('inf')\n",
    "            if i==depot:\n",
    "                D[depot,i]=0\n",
    "                route[depot,i%n]=[[depot]]\n",
    "            else:\n",
    "                for j in range(depot,i):\n",
    "                    if j!=i%n:\n",
    "                        d=M[j%n,i%n]+D[depot,j%n]\n",
    "                        r=route[depot,j%n]+[[j%n,i%n]]\n",
    "                        if D[depot,i%n]>d:\n",
    "                                D[depot,i%n]=d\n",
    "                                route[depot,i%n]=r\n",
    "        \n",
    "    res=[D[i,i] for i in range(n)]\n",
    "    dep=res.index(min(res))\n",
    "    pathlen=len(route[dep,dep])\n",
    "    path=[]#通る順番（点の座標ではなくインデックスを表している点に注意）\n",
    "    for i in range(pathlen-1):\n",
    "        path=path+route[dep,dep][i+1]\n",
    "        if (route[dep,dep][i+1][0],route[dep,dep][i+1][1]) in Mdrone:\n",
    "            path=path+[Mdrone[route[dep,dep][i+1][0],route[dep,dep][i+1][1]]]\n",
    "    \n",
    "        \n",
    "    \n",
    "    return min(res),path"
   ]
  },
  {
   "cell_type": "code",
   "execution_count": 8,
   "metadata": {},
   "outputs": [
    {
     "data": {
      "text/plain": [
       "(113.43804546535468, [0, 2, [1], 2, 5, [4], 5, 7, [6], 7, 0, [9]])"
      ]
     },
     "execution_count": 8,
     "metadata": {},
     "output_type": "execute_result"
    }
   ],
   "source": [
    "heuristic2(two_opt(V))"
   ]
  },
  {
   "cell_type": "code",
   "execution_count": 24,
   "metadata": {},
   "outputs": [],
   "source": [
    "import itertools\n",
    "def twopmove(lis,i,j):#iとjの順番を入れ替える\n",
    "    i0,j0=lis[i],lis[j]\n",
    "    lis[j]=i0\n",
    "    lis[i]=j0\n",
    "    return lis\n",
    "         \n",
    "def twooptmove(lis,i,j):#2辺を入れ替える\n",
    "    if i<j: lis=lis[:i+1]+lis[j:(i+1)%len(lis)-1:-1]+lis[(j+1):]\n",
    "    else: lis=[lis[i]]+lis[j::-1]+lis[:(i+1)%len(lis)-1:-1]+lis[j+1:i]\n",
    "        \n",
    "    return lis\n",
    "\n",
    "def onepmove(lis,i,j):#iをj番目に挿入する\n",
    "    i0=lis[i]\n",
    "    del lis[i]\n",
    "    lis.insert(j,i0)\n",
    "       \n",
    "    return lis\n",
    "    "
   ]
  },
  {
   "cell_type": "code",
   "execution_count": 25,
   "metadata": {},
   "outputs": [],
   "source": [
    "def improve_two_p(lis):\n",
    "    n=len(lis)\n",
    "    update=True\n",
    "    while update:\n",
    "        update=False\n",
    "        f=heuristic2(lis)\n",
    "        for (i,j) in itertools.combinations(range(n),2):\n",
    "            twopmove(lis,i,j)\n",
    "            if f>heuristic2(lis):\n",
    "                update=True\n",
    "                f=heuristic2(lis)\n",
    "                break\n",
    "            else:\n",
    "                twopmove(lis,i,j)        \n",
    "                \n",
    "    return lis,heuristic2(lis)\n",
    "\n",
    "def improve_two_opt(lis):\n",
    "    n=len(lis)\n",
    "    update=True\n",
    "    while update:\n",
    "        update=False\n",
    "        for (i,j) in itertools.combinations(range(n),2):\n",
    "            R=twooptmove(lis,i,j)\n",
    "            if heuristic2(lis)>heuristic2(R):\n",
    "                update=True\n",
    "                lis=R\n",
    "                break\n",
    "            else:\n",
    "                R=twooptmove(lis,i,j)        \n",
    "                \n",
    "    return lis,heuristic2(lis)\n",
    "\n",
    "def improve_one_p(lis):\n",
    "    n=len(lis)\n",
    "    update=True\n",
    "    while update:\n",
    "        update=False\n",
    "        f=heuristic2(lis)\n",
    "        for (i,j) in itertools.combinations(range(n),2):\n",
    "            twopmove(lis,i,j)\n",
    "            if f>heuristic2(lis):\n",
    "                update=True\n",
    "                f=heuristic2(lis)\n",
    "                break\n",
    "            else:\n",
    "                twopmove(lis,j,i)        \n",
    "                \n",
    "    return lis,heuristic2(lis)\n",
    "\n",
    "def improve_all(lis):\n",
    "    lis_all=[improve_two_p(lis)[1],improve_two_opt(lis)[1],improve_one_p(lis)[1]]\n",
    "    lis_All=[improve_two_p(lis),improve_two_opt(lis),improve_one_p(lis)]\n",
    "    for i in lis_All:\n",
    "        if i[1] == min(lis_all):\n",
    "            return i\n",
    "            break\n",
    "    \n",
    "    "
   ]
  },
  {
   "cell_type": "code",
   "execution_count": 26,
   "metadata": {},
   "outputs": [],
   "source": [
    "lis=two_opt(V)"
   ]
  },
  {
   "cell_type": "code",
   "execution_count": 30,
   "metadata": {},
   "outputs": [
    {
     "data": {
      "text/plain": [
       "[5, 0, 9, 6, 7, 1, 3, 2, 8, 4]"
      ]
     },
     "execution_count": 30,
     "metadata": {},
     "output_type": "execute_result"
    }
   ],
   "source": [
    "lis"
   ]
  },
  {
   "cell_type": "code",
   "execution_count": 28,
   "metadata": {},
   "outputs": [
    {
     "data": {
      "text/plain": [
       "([5, 0, 8, 7, 1, 3, 2, 6, 4, 9],\n",
       " (139.50025186636572, [0, 3, [1], 3, 5, [4], 5, 7, [6], 7, 0, [8]]))"
      ]
     },
     "execution_count": 28,
     "metadata": {},
     "output_type": "execute_result"
    }
   ],
   "source": [
    "improve_all(lis)"
   ]
  },
  {
   "cell_type": "code",
   "execution_count": 32,
   "metadata": {},
   "outputs": [],
   "source": [
    "lis.append(0)"
   ]
  },
  {
   "cell_type": "code",
   "execution_count": 33,
   "metadata": {},
   "outputs": [
    {
     "data": {
      "text/plain": [
       "2"
      ]
     },
     "execution_count": 33,
     "metadata": {},
     "output_type": "execute_result"
    }
   ],
   "source": [
    "lis.count(0)"
   ]
  }
 ],
 "metadata": {
  "kernelspec": {
   "display_name": "Python 3",
   "language": "python",
   "name": "python3"
  },
  "language_info": {
   "codemirror_mode": {
    "name": "ipython",
    "version": 3
   },
   "file_extension": ".py",
   "mimetype": "text/x-python",
   "name": "python",
   "nbconvert_exporter": "python",
   "pygments_lexer": "ipython3",
   "version": "3.7.6"
  }
 },
 "nbformat": 4,
 "nbformat_minor": 4
}
