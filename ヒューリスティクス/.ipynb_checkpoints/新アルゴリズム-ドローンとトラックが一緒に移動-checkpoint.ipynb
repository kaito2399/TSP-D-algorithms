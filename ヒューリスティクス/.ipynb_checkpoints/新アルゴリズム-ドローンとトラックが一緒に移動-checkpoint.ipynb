{
 "cells": [
  {
   "cell_type": "code",
   "execution_count": 103,
   "metadata": {},
   "outputs": [],
   "source": [
    "import random\n",
    "n=6\n",
    "V = [(random.uniform(5,75),random.uniform(5,55)) for i in range(n)]\n",
    "import matplotlib.pyplot as plt\n",
    "alpha=2"
   ]
  },
  {
   "cell_type": "code",
   "execution_count": 111,
   "metadata": {},
   "outputs": [
    {
     "data": {
      "text/plain": [
       "[(59.60230863891071, 44.84521093306686),\n",
       " (15.957642824352993, 5.584901238283781),\n",
       " (15.92129440962412, 52.79258871267679),\n",
       " (21.137558934740103, 25.886845591574666),\n",
       " (49.267143783148356, 51.655431819995705),\n",
       " (10.85424385943711, 31.490148063297152)]"
      ]
     },
     "execution_count": 111,
     "metadata": {},
     "output_type": "execute_result"
    }
   ],
   "source": [
    "V"
   ]
  },
  {
   "cell_type": "code",
   "execution_count": 104,
   "metadata": {},
   "outputs": [],
   "source": [
    "alpha=2\n",
    "def t_cost(s,t): return ((s[0]-t[0])**2+(s[1]-t[1])**2)**(0.5)\n",
    "def d_cost(s,t): return (1/alpha)*(((s[0]-t[0])**2+(s[1]-t[1])**2)**(0.5))"
   ]
  },
  {
   "cell_type": "code",
   "execution_count": 105,
   "metadata": {},
   "outputs": [],
   "source": [
    "def tpath_pathcost(start,end,tpath):\n",
    "    pathcost=0\n",
    "    a=tpath.index(start)\n",
    "    b=tpath.index(end)\n",
    "    if a<b:\n",
    "        for i in range(a,b):\n",
    "            pathcost=pathcost+t_cost(V[tpath[i]],V[tpath[(i+1)%len(tpath)]])\n",
    "    if a>b:\n",
    "        for i in range(a,len(tpath)):\n",
    "            pathcost=pathcost+t_cost(V[tpath[i]],V[tpath[(i+1)%len(tpath)]])\n",
    "        for i in range(b):\n",
    "            pathcost=pathcost+t_cost(V[tpath[i]],V[tpath[(i+1)%len(tpath)]])\n",
    "    if a==b:\n",
    "        pathcost=0\n",
    "            \n",
    "    return pathcost"
   ]
  },
  {
   "cell_type": "code",
   "execution_count": 106,
   "metadata": {},
   "outputs": [],
   "source": [
    "def center(V):\n",
    "    x=[]\n",
    "    y=[]\n",
    "    for i in range(n):\n",
    "        x.append(V[i][0])\n",
    "        y.append(V[i][1])\n",
    "    return [sum(x)/n,sum(y)/n]"
   ]
  },
  {
   "cell_type": "code",
   "execution_count": 107,
   "metadata": {},
   "outputs": [],
   "source": [
    "import itertools\n",
    "import matplotlib.pyplot as plt\n",
    "def two_opt_truck(ps,truck_nodes):\n",
    "    n = len(ps)\n",
    "    res = list(range(n))\n",
    "    update = True\n",
    "    while update:\n",
    "        update = False\n",
    "        for (i,j) in itertools.combinations(range(n),2):\n",
    "            if ((t_cost(ps[res[i]],ps[res[i+1]])+t_cost(ps[res[j]],ps[res[(j+1)%n]]))>\n",
    "                (t_cost(ps[res[i]],ps[res[j]])+t_cost(ps[res[i+1]],ps[res[(j+1)%n]]))):\n",
    "                res[i+1:j+1] = res[j:i:-1]\n",
    "                update = True\n",
    "                \n",
    "    path=[truck_nodes[i] for i in res]\n",
    "\n",
    "    return path"
   ]
  },
  {
   "cell_type": "code",
   "execution_count": 108,
   "metadata": {},
   "outputs": [],
   "source": [
    "def dp_truck(ps,truck_nodes):\n",
    "    length = {} # length[(u,S)]: u を始点とし S の点すべてを回る最小経路長、ディクショナリ\n",
    "    route = {} # route[(u,S)]: 最小経路長を達成するためのルート、ディクショナリ\n",
    "    v = ps[0]\n",
    "    n = len(ps)\n",
    "    for i in range(1,n+1):\n",
    "        for a in itertools.combinations(range(n),i):\n",
    "            S = frozenset(a)\n",
    "            for j in S:\n",
    "                u = ps[j]\n",
    "                if i==1:\n",
    "                    length[(j,S)] = t_cost(v,u)\n",
    "                    route[(j,S)] = [j]\n",
    "                else:\n",
    "                    Sj = S-set([j]) # S から j を除いたもの\n",
    "                    k=min(Sj,key=lambda k: length[(k,Sj)]+t_cost(ps[k],u))#Sjの中でlength[(k,Sj)]+dist(ps[k],u)が最小のものを返している\n",
    "                    length[(j,S)] = length[(k,Sj)]+t_cost(ps[k],u)\n",
    "                    route[(j,S)] = route[(k,Sj)]+[j]\n",
    "    path=[truck_nodes[i] for i in route[(0,frozenset(range(n)))]]\n",
    "    \n",
    "    return path "
   ]
  },
  {
   "cell_type": "code",
   "execution_count": 116,
   "metadata": {},
   "outputs": [],
   "source": [
    "#トラックのルートをdp（動的計画）で求める\n",
    "import itertools\n",
    "def newalgo_dp_issho(V):\n",
    "    n=len(V)\n",
    "    ndmin=2\n",
    "    ndmax=n//2\n",
    "    c=center(V)\n",
    "    D={}\n",
    "    for nd in range(ndmin,ndmax+1):\n",
    "        length={i:t_cost(c,V[i]) for i in range(n)}\n",
    "        drone_nodes=[]\n",
    "        truck_nodes=[]\n",
    "        T={}\n",
    "        for i in range(nd):\n",
    "            drone_nodes.append(max(length, key=length.get))\n",
    "            del length[max(length, key=length.get)]\n",
    "        truck_nodes=list(set(range(n))-set(drone_nodes))\n",
    "        t=[V[i] for i in truck_nodes]\n",
    "        tpath=dp_truck(t,truck_nodes)\n",
    "        for drone in drone_nodes:\n",
    "            for (start,end) in itertools.permutations(tpath,2):\n",
    "                drone_cost=d_cost(V[start],V[drone])+d_cost(V[drone],V[end])\n",
    "                truck_cost=tpath_pathcost(start,end,tpath)\n",
    "                T[start,drone,end]=max(drone_cost,truck_cost)\n",
    "        for i in range(len(tpath)):\n",
    "            T[tpath[i],-1,tpath[(i+1)%len(tpath)]]=t_cost(V[tpath[i]],V[tpath[(i+1)%len(tpath)]])\n",
    "\n",
    "        tc=[a for a in itertools.combinations(tpath,nd)]\n",
    "        dc=[b for b in itertools.permutations(drone_nodes,nd)]\n",
    "        for comb in itertools.product(tc,dc):\n",
    "            d=0\n",
    "            for j in range(nd):\n",
    "                d=d+T[comb[0][j],comb[1][j],comb[0][(j+1)%nd]]\n",
    "            D[comb]=d,tpath\n",
    "        if len(tpath)>len(drone_nodes):\n",
    "            for k in range(len(tpath)):\n",
    "                if k==0:\n",
    "                    between=tpath[k+1:k+-1]\n",
    "                else:\n",
    "                    between=tpath[k+1:k-1]+tpath[k+1:]+tpath[:k-1]\n",
    "                for g in itertools.combinations(between,nd-1):\n",
    "                    combine=[tpath[k],tpath[k-1]]\n",
    "                    for j in g:\n",
    "                        combine.insert(-1,j)\n",
    "                    d=T[tpath[k-1],-1,tpath[k]]\n",
    "                    for drone in dc:\n",
    "                        comb=(tuple(combine),tuple(drone))\n",
    "                        for j in range(nd):\n",
    "                            d=d+T[combine[j],drone[j],combine[j+1]]\n",
    "                        D[comb]=d,tpath\n",
    "                            \n",
    "                \n",
    "                \n",
    "                \n",
    "    res=min(D.values()) \n",
    "    path=min(D,key=D.get)\n",
    "        \n",
    "        \n",
    "    return res,path,D"
   ]
  },
  {
   "cell_type": "code",
   "execution_count": 117,
   "metadata": {},
   "outputs": [
    {
     "data": {
      "text/plain": [
       "105.12115497107885"
      ]
     },
     "execution_count": 117,
     "metadata": {},
     "output_type": "execute_result"
    }
   ],
   "source": [
    "newalgo_dp_issho(V)"
   ]
  },
  {
   "cell_type": "code",
   "execution_count": 49,
   "metadata": {},
   "outputs": [],
   "source": [
    "g=(3,0)"
   ]
  },
  {
   "cell_type": "code",
   "execution_count": 51,
   "metadata": {},
   "outputs": [],
   "source": [
    "tu=(1,g,4)"
   ]
  },
  {
   "cell_type": "code",
   "execution_count": 52,
   "metadata": {},
   "outputs": [
    {
     "data": {
      "text/plain": [
       "(1, (3, 0), 4)"
      ]
     },
     "execution_count": 52,
     "metadata": {},
     "output_type": "execute_result"
    }
   ],
   "source": [
    "tu"
   ]
  },
  {
   "cell_type": "code",
   "execution_count": 86,
   "metadata": {},
   "outputs": [],
   "source": [
    "lis=[0,1,2,3,4,5,6]"
   ]
  },
  {
   "cell_type": "code",
   "execution_count": 87,
   "metadata": {},
   "outputs": [
    {
     "data": {
      "text/plain": [
       "[1, 2, 3, 4, 5]"
      ]
     },
     "execution_count": 87,
     "metadata": {},
     "output_type": "execute_result"
    }
   ],
   "source": [
    "lis[1:-1]"
   ]
  },
  {
   "cell_type": "code",
   "execution_count": 95,
   "metadata": {},
   "outputs": [
    {
     "name": "stdout",
     "output_type": "stream",
     "text": [
      "[1, 2, 3, 4, 5]\n",
      "[2, 3, 4, 5, 6]\n",
      "[3, 4, 5, 6, 0]\n",
      "[4, 5, 6, 0, 1]\n",
      "[5, 6, 0, 1, 2]\n",
      "[6, 0, 1, 2, 3]\n",
      "[0, 1, 2, 3, 4]\n"
     ]
    }
   ],
   "source": [
    "for k in range(len(lis)):\n",
    "    if k==0:\n",
    "        between=lis[k+1:k-1]\n",
    "        print(between)\n",
    "    else:\n",
    "        between=lis[k+1:k-1]+lis[k+1:]+lis[:k-1]\n",
    "        print(between)"
   ]
  },
  {
   "cell_type": "code",
   "execution_count": null,
   "metadata": {},
   "outputs": [],
   "source": []
  }
 ],
 "metadata": {
  "kernelspec": {
   "display_name": "Python 3",
   "language": "python",
   "name": "python3"
  },
  "language_info": {
   "codemirror_mode": {
    "name": "ipython",
    "version": 3
   },
   "file_extension": ".py",
   "mimetype": "text/x-python",
   "name": "python",
   "nbconvert_exporter": "python",
   "pygments_lexer": "ipython3",
   "version": "3.7.6"
  }
 },
 "nbformat": 4,
 "nbformat_minor": 4
}
