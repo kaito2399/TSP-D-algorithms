{
 "cells": [
  {
   "cell_type": "code",
   "execution_count": 2,
   "metadata": {},
   "outputs": [],
   "source": [
    "import random\n",
    "n=20\n",
    "V = [(random.uniform(5,75),random.uniform(5,55)) for i in range(n)]\n",
    "import matplotlib.pyplot as plt\n",
    "alpha=2"
   ]
  },
  {
   "cell_type": "code",
   "execution_count": 3,
   "metadata": {},
   "outputs": [],
   "source": [
    "def t_cost(s,t): return ((s[0]-t[0])**2+(s[1]-t[1])**2)**(0.5)\n",
    "def d_cost(s,t): return (1/alpha)*(((s[0]-t[0])**2+(s[1]-t[1])**2)**(0.5))"
   ]
  },
  {
   "cell_type": "code",
   "execution_count": 4,
   "metadata": {},
   "outputs": [],
   "source": [
    "import itertools\n",
    "import matplotlib.pyplot as plt\n",
    "def two_opt(ps):\n",
    "    n = len(ps)\n",
    "    res = list(range(n))\n",
    "    update = True\n",
    "    while update:\n",
    "        update = False\n",
    "        for (i,j) in itertools.combinations(range(n),2):\n",
    "            if ((t_cost(ps[res[i]],ps[res[i+1]])+t_cost(ps[res[j]],ps[res[(j+1)%n]]))>\n",
    "                (t_cost(ps[res[i]],ps[res[j]])+t_cost(ps[res[i+1]],ps[res[(j+1)%n]]))):\n",
    "                res[i+1:j+1] = res[j:i:-1]\n",
    "                update = True\n",
    "                \n",
    "#     for i in range(n):\n",
    "#         plt.scatter(ps[i][0],ps[i][1],c='k')\n",
    "#         connect_x=[ps[res[i]][0],ps[res[(i+1)%len(ps)]][0]]\n",
    "#         connect_y=[ps[res[i]][1],ps[res[(i+1)%len(ps)]][1]]\n",
    "#         plt.plot(connect_x,connect_y, c='red')\n",
    "    return res"
   ]
  },
  {
   "cell_type": "code",
   "execution_count": 5,
   "metadata": {},
   "outputs": [],
   "source": [
    "def dp(ps):\n",
    "    length = {} # length[(u,S)]: u を始点とし S の点すべてを回る最小経路長、ディクショナリ\n",
    "    route = {} # route[(u,S)]: 最小経路長を達成するためのルート、ディクショナリ\n",
    "    v = ps[0]\n",
    "    n = len(ps)\n",
    "    for i in range(1,n+1):\n",
    "        for a in itertools.combinations(range(n),i):\n",
    "            S = frozenset(a)\n",
    "            for j in S:\n",
    "                u = ps[j]\n",
    "                if i==1:\n",
    "                    length[(j,S)] = t_cost(v,u)\n",
    "                    route[(j,S)] = [j]\n",
    "                else:\n",
    "                    Sj = S-set([j]) # S から j を除いたもの\n",
    "                    k=min(Sj,key=lambda k: length[(k,Sj)]+t_cost(ps[k],u))#Sjの中でlength[(k,Sj)]+dist(ps[k],u)が最小のものを返している\n",
    "                    length[(j,S)] = length[(k,Sj)]+t_cost(ps[k],u)\n",
    "                    route[(j,S)] = route[(k,Sj)]+[j]\n",
    "    return route[(0,frozenset(range(n)))] "
   ]
  },
  {
   "cell_type": "code",
   "execution_count": 6,
   "metadata": {},
   "outputs": [
    {
     "data": {
      "text/plain": [
       "[0, 2, 7, 15, 4, 5, 13, 16, 3, 9, 1, 17, 18, 14, 11, 6, 19, 8, 12, 10]"
      ]
     },
     "execution_count": 6,
     "metadata": {},
     "output_type": "execute_result"
    }
   ],
   "source": [
    "two_opt(V)"
   ]
  },
  {
   "cell_type": "code",
   "execution_count": 7,
   "metadata": {},
   "outputs": [
    {
     "ename": "KeyboardInterrupt",
     "evalue": "",
     "output_type": "error",
     "traceback": [
      "\u001b[1;31m---------------------------------------------------------------------------\u001b[0m",
      "\u001b[1;31mKeyboardInterrupt\u001b[0m                         Traceback (most recent call last)",
      "\u001b[1;32m<ipython-input-7-0ac0fdd4bbe9>\u001b[0m in \u001b[0;36m<module>\u001b[1;34m\u001b[0m\n\u001b[1;32m----> 1\u001b[1;33m \u001b[0mdp\u001b[0m\u001b[1;33m(\u001b[0m\u001b[0mV\u001b[0m\u001b[1;33m)\u001b[0m\u001b[1;33m\u001b[0m\u001b[1;33m\u001b[0m\u001b[0m\n\u001b[0m",
      "\u001b[1;32m<ipython-input-5-6a8cd1bb21b8>\u001b[0m in \u001b[0;36mdp\u001b[1;34m(ps)\u001b[0m\n\u001b[0;32m     14\u001b[0m                 \u001b[1;32melse\u001b[0m\u001b[1;33m:\u001b[0m\u001b[1;33m\u001b[0m\u001b[1;33m\u001b[0m\u001b[0m\n\u001b[0;32m     15\u001b[0m                     \u001b[0mSj\u001b[0m \u001b[1;33m=\u001b[0m \u001b[0mS\u001b[0m\u001b[1;33m-\u001b[0m\u001b[0mset\u001b[0m\u001b[1;33m(\u001b[0m\u001b[1;33m[\u001b[0m\u001b[0mj\u001b[0m\u001b[1;33m]\u001b[0m\u001b[1;33m)\u001b[0m \u001b[1;31m# S から j を除いたもの\u001b[0m\u001b[1;33m\u001b[0m\u001b[1;33m\u001b[0m\u001b[0m\n\u001b[1;32m---> 16\u001b[1;33m                     \u001b[0mk\u001b[0m\u001b[1;33m=\u001b[0m\u001b[0mmin\u001b[0m\u001b[1;33m(\u001b[0m\u001b[0mSj\u001b[0m\u001b[1;33m,\u001b[0m\u001b[0mkey\u001b[0m\u001b[1;33m=\u001b[0m\u001b[1;32mlambda\u001b[0m \u001b[0mk\u001b[0m\u001b[1;33m:\u001b[0m \u001b[0mlength\u001b[0m\u001b[1;33m[\u001b[0m\u001b[1;33m(\u001b[0m\u001b[0mk\u001b[0m\u001b[1;33m,\u001b[0m\u001b[0mSj\u001b[0m\u001b[1;33m)\u001b[0m\u001b[1;33m]\u001b[0m\u001b[1;33m+\u001b[0m\u001b[0mt_cost\u001b[0m\u001b[1;33m(\u001b[0m\u001b[0mps\u001b[0m\u001b[1;33m[\u001b[0m\u001b[0mk\u001b[0m\u001b[1;33m]\u001b[0m\u001b[1;33m,\u001b[0m\u001b[0mu\u001b[0m\u001b[1;33m)\u001b[0m\u001b[1;33m)\u001b[0m\u001b[1;31m#Sjの中でlength[(k,Sj)]+dist(ps[k],u)が最小のものを返している\u001b[0m\u001b[1;33m\u001b[0m\u001b[1;33m\u001b[0m\u001b[0m\n\u001b[0m\u001b[0;32m     17\u001b[0m                     \u001b[0mlength\u001b[0m\u001b[1;33m[\u001b[0m\u001b[1;33m(\u001b[0m\u001b[0mj\u001b[0m\u001b[1;33m,\u001b[0m\u001b[0mS\u001b[0m\u001b[1;33m)\u001b[0m\u001b[1;33m]\u001b[0m \u001b[1;33m=\u001b[0m \u001b[0mlength\u001b[0m\u001b[1;33m[\u001b[0m\u001b[1;33m(\u001b[0m\u001b[0mk\u001b[0m\u001b[1;33m,\u001b[0m\u001b[0mSj\u001b[0m\u001b[1;33m)\u001b[0m\u001b[1;33m]\u001b[0m\u001b[1;33m+\u001b[0m\u001b[0mt_cost\u001b[0m\u001b[1;33m(\u001b[0m\u001b[0mps\u001b[0m\u001b[1;33m[\u001b[0m\u001b[0mk\u001b[0m\u001b[1;33m]\u001b[0m\u001b[1;33m,\u001b[0m\u001b[0mu\u001b[0m\u001b[1;33m)\u001b[0m\u001b[1;33m\u001b[0m\u001b[1;33m\u001b[0m\u001b[0m\n\u001b[0;32m     18\u001b[0m                     \u001b[0mroute\u001b[0m\u001b[1;33m[\u001b[0m\u001b[1;33m(\u001b[0m\u001b[0mj\u001b[0m\u001b[1;33m,\u001b[0m\u001b[0mS\u001b[0m\u001b[1;33m)\u001b[0m\u001b[1;33m]\u001b[0m \u001b[1;33m=\u001b[0m \u001b[0mroute\u001b[0m\u001b[1;33m[\u001b[0m\u001b[1;33m(\u001b[0m\u001b[0mk\u001b[0m\u001b[1;33m,\u001b[0m\u001b[0mSj\u001b[0m\u001b[1;33m)\u001b[0m\u001b[1;33m]\u001b[0m\u001b[1;33m+\u001b[0m\u001b[1;33m[\u001b[0m\u001b[0mj\u001b[0m\u001b[1;33m]\u001b[0m\u001b[1;33m\u001b[0m\u001b[1;33m\u001b[0m\u001b[0m\n",
      "\u001b[1;32m<ipython-input-5-6a8cd1bb21b8>\u001b[0m in \u001b[0;36m<lambda>\u001b[1;34m(k)\u001b[0m\n\u001b[0;32m     14\u001b[0m                 \u001b[1;32melse\u001b[0m\u001b[1;33m:\u001b[0m\u001b[1;33m\u001b[0m\u001b[1;33m\u001b[0m\u001b[0m\n\u001b[0;32m     15\u001b[0m                     \u001b[0mSj\u001b[0m \u001b[1;33m=\u001b[0m \u001b[0mS\u001b[0m\u001b[1;33m-\u001b[0m\u001b[0mset\u001b[0m\u001b[1;33m(\u001b[0m\u001b[1;33m[\u001b[0m\u001b[0mj\u001b[0m\u001b[1;33m]\u001b[0m\u001b[1;33m)\u001b[0m \u001b[1;31m# S から j を除いたもの\u001b[0m\u001b[1;33m\u001b[0m\u001b[1;33m\u001b[0m\u001b[0m\n\u001b[1;32m---> 16\u001b[1;33m                     \u001b[0mk\u001b[0m\u001b[1;33m=\u001b[0m\u001b[0mmin\u001b[0m\u001b[1;33m(\u001b[0m\u001b[0mSj\u001b[0m\u001b[1;33m,\u001b[0m\u001b[0mkey\u001b[0m\u001b[1;33m=\u001b[0m\u001b[1;32mlambda\u001b[0m \u001b[0mk\u001b[0m\u001b[1;33m:\u001b[0m \u001b[0mlength\u001b[0m\u001b[1;33m[\u001b[0m\u001b[1;33m(\u001b[0m\u001b[0mk\u001b[0m\u001b[1;33m,\u001b[0m\u001b[0mSj\u001b[0m\u001b[1;33m)\u001b[0m\u001b[1;33m]\u001b[0m\u001b[1;33m+\u001b[0m\u001b[0mt_cost\u001b[0m\u001b[1;33m(\u001b[0m\u001b[0mps\u001b[0m\u001b[1;33m[\u001b[0m\u001b[0mk\u001b[0m\u001b[1;33m]\u001b[0m\u001b[1;33m,\u001b[0m\u001b[0mu\u001b[0m\u001b[1;33m)\u001b[0m\u001b[1;33m)\u001b[0m\u001b[1;31m#Sjの中でlength[(k,Sj)]+dist(ps[k],u)が最小のものを返している\u001b[0m\u001b[1;33m\u001b[0m\u001b[1;33m\u001b[0m\u001b[0m\n\u001b[0m\u001b[0;32m     17\u001b[0m                     \u001b[0mlength\u001b[0m\u001b[1;33m[\u001b[0m\u001b[1;33m(\u001b[0m\u001b[0mj\u001b[0m\u001b[1;33m,\u001b[0m\u001b[0mS\u001b[0m\u001b[1;33m)\u001b[0m\u001b[1;33m]\u001b[0m \u001b[1;33m=\u001b[0m \u001b[0mlength\u001b[0m\u001b[1;33m[\u001b[0m\u001b[1;33m(\u001b[0m\u001b[0mk\u001b[0m\u001b[1;33m,\u001b[0m\u001b[0mSj\u001b[0m\u001b[1;33m)\u001b[0m\u001b[1;33m]\u001b[0m\u001b[1;33m+\u001b[0m\u001b[0mt_cost\u001b[0m\u001b[1;33m(\u001b[0m\u001b[0mps\u001b[0m\u001b[1;33m[\u001b[0m\u001b[0mk\u001b[0m\u001b[1;33m]\u001b[0m\u001b[1;33m,\u001b[0m\u001b[0mu\u001b[0m\u001b[1;33m)\u001b[0m\u001b[1;33m\u001b[0m\u001b[1;33m\u001b[0m\u001b[0m\n\u001b[0;32m     18\u001b[0m                     \u001b[0mroute\u001b[0m\u001b[1;33m[\u001b[0m\u001b[1;33m(\u001b[0m\u001b[0mj\u001b[0m\u001b[1;33m,\u001b[0m\u001b[0mS\u001b[0m\u001b[1;33m)\u001b[0m\u001b[1;33m]\u001b[0m \u001b[1;33m=\u001b[0m \u001b[0mroute\u001b[0m\u001b[1;33m[\u001b[0m\u001b[1;33m(\u001b[0m\u001b[0mk\u001b[0m\u001b[1;33m,\u001b[0m\u001b[0mSj\u001b[0m\u001b[1;33m)\u001b[0m\u001b[1;33m]\u001b[0m\u001b[1;33m+\u001b[0m\u001b[1;33m[\u001b[0m\u001b[0mj\u001b[0m\u001b[1;33m]\u001b[0m\u001b[1;33m\u001b[0m\u001b[1;33m\u001b[0m\u001b[0m\n",
      "\u001b[1;31mKeyboardInterrupt\u001b[0m: "
     ]
    }
   ],
   "source": [
    "dp(V)"
   ]
  },
  {
   "cell_type": "code",
   "execution_count": null,
   "metadata": {},
   "outputs": [],
   "source": []
  },
  {
   "cell_type": "code",
   "execution_count": null,
   "metadata": {},
   "outputs": [],
   "source": [
    "import itertools\n",
    "import matplotlib.pyplot as plt\n",
    "def heuristic1(tsp):\n",
    "    label={}\n",
    "    operation={}\n",
    "    flyop={}\n",
    "    driveop={}\n",
    "    tsptotal=0\n",
    "    for i in tsp:\n",
    "        label[i]='simple'\n",
    "        tsptotal=tsptotal+t_cost(V[tsp[i]],V[tsp[(i+1)%len(tsp)]])\n",
    "    n=len(label)\n",
    "    tspdtotal=tsptotal\n",
    "    ms=[1]\n",
    "    while max(ms)>0:\n",
    "        ms=[]\n",
    "        for i in range(n):\n",
    "            if label[tsp[i]]=='combined' or label[tsp[i]]=='drone' or label[tsp[i]]=='truck':\n",
    "                ms.append(-float('inf'))\n",
    "            else:\n",
    "                mfsi=t_cost(V[tsp[i-1]],V[tsp[i]])+t_cost(V[tsp[i]],V[tsp[(i+1)%n]])-max(d_cost(V[tsp[i-1]],V[tsp[i]])+d_cost(V[tsp[i]],V[tsp[(i+1)%n]]),t_cost(V[tsp[i-1]],V[tsp[(i+1)%n]]))\n",
    "                ms.append(mfsi)\n",
    "        for i in range(n):\n",
    "            if label[tsp[i]]=='combined':\n",
    "                if label[tsp[i-1]]==('combined'or'simple'):\n",
    "                    j=i+1\n",
    "                    while label[tsp[j%n]]!='combined':\n",
    "                        if label[tsp[j%n]]=='drone':\n",
    "                            dronenode=j%n\n",
    "                        if label[tsp[(j+1)%n]]=='combined':\n",
    "                            pls=t_cost(V[tsp[i-1]],V[tsp[i]])+operation[(tsp[dronenode],tsp[i],tsp[(j+1)%n])]-max(d_cost(V[tsp[i-1]],V[tsp[dronenode]])+d_cost(V[tsp[dronenode]],V[tsp[(j+1)%n]]),driveop[(tsp[dronenode],tsp[i],tsp[(j+1)%n])]+t_cost(V[tsp[i-1]],V[tsp[i]]))\n",
    "                            ms.append(pls)\n",
    "                            break\n",
    "                        j=j+1  \n",
    "                else: ms.append(-float('inf'))\n",
    "            else: ms.append(-float('inf'))\n",
    "        for i in range(n):\n",
    "            if label[tsp[i]]=='combined':\n",
    "                if label[tsp[(i+1)%n]]==('combined'or'simple'):\n",
    "                    j=i-1\n",
    "                    while label[tsp[(j+n)%n]]!='combined':\n",
    "                        if label[tsp[(j+n)%n]]=='drone':\n",
    "                            dronenode=(j+n)%n\n",
    "                        if label[tsp[j-1]]=='combined':\n",
    "                            pls=t_cost(V[tsp[i]],V[tsp[(i+1)%n]])+operation[(tsp[dronenode],tsp[j-1],tsp[i])]-max(d_cost(V[tsp[j-1]],V[tsp[dronenode]])+d_cost(V[tsp[dronenode]],V[tsp[(i+1)%n]]),driveop[(tsp[dronenode],tsp[j-1],tsp[i])]+t_cost(V[tsp[i]],V[tsp[(i+1)%n]]))\n",
    "                            ms.append(pls)\n",
    "                            break\n",
    "                        j=j-1  \n",
    "                else: ms.append(-float('inf'))\n",
    "            else: ms.append(-float('inf'))\n",
    "        for i in range(len(ms)):\n",
    "            if ms[i]==max(ms) and ms[i]>0:\n",
    "                tspdtotal=tspdtotal-ms[i]\n",
    "                if i//n==0:\n",
    "                    label[tsp[i]]='drone'\n",
    "                    label[tsp[i-1]]='combined'\n",
    "                    label[tsp[(i+1)%n]]='combined'\n",
    "                    flyop[(tsp[i],tsp[i-1],tsp[(i+1)%n])]=d_cost(V[tsp[i-1]],V[tsp[i]])+d_cost(V[tsp[i]],V[tsp[(i+1)%n]])\n",
    "                    driveop[(tsp[i],tsp[i-1],tsp[(i+1)%n])]=t_cost(V[tsp[i-1]],V[tsp[(i+1)%n]])\n",
    "                    operation[(tsp[i],tsp[i-1],tsp[(i+1)%n])]=max(flyop[(tsp[i],tsp[i-1],tsp[(i+1)%n])],driveop[(tsp[i],tsp[i-1],tsp[(i+1)%n])])\n",
    "                elif i//n==1:\n",
    "                    label[tsp[i%n]]='truck'\n",
    "                    label[tsp[(i-1)%n]]='combined'\n",
    "                    j=(i+1)%n\n",
    "                    while label[tsp[j%n]]!='combined':\n",
    "                        if label[tsp[j%n]]=='drone':\n",
    "                            dronenode=j\n",
    "                        if label[tsp[(j+1)%n]]=='combined':\n",
    "                            flyop[(tsp[dronenode],tsp[(i-1)%n],tsp[(j+1)%n])]=d_cost(V[tsp[(i-1)%n]],V[tsp[dronenode]])+d_cost(V[tsp[dronenode]],V[tsp[(j+1)%n]])\n",
    "                            driveop[(tsp[dronenode],tsp[(i-1)%n],tsp[(j+1)%n])]=driveop[(tsp[dronenode],tsp[i%n],tsp[(j+1)%n])]+t_cost(V[tsp[(i-1)%n]],V[tsp[i%n]])\n",
    "                            operation[(tsp[dronenode],tsp[(i-1)%n],tsp[(j+1)%n])]=max(flyop[(tsp[dronenode],tsp[(i-1)%n],tsp[(j+1)%n])],driveop[(tsp[dronenode],tsp[(i-1)%n],tsp[(j+1)%n])])\n",
    "                            break\n",
    "                        j=j+1\n",
    "                elif i//n==2:\n",
    "                    label[tsp[i%n]]='truck'\n",
    "                    label[tsp[(i+1)%n]]='combined'\n",
    "                    j=(i-1)%n\n",
    "                    while label[tsp[j]]!='combined':\n",
    "                        if label[tsp[j]]=='drone':\n",
    "                            dronenode=j\n",
    "                        if label[tsp[j-1]]=='combined':\n",
    "                            flyop[(tsp[dronenode],tsp[j-1],tsp[(i+1)%n])]=d_cost(V[tsp[j-1]],V[tsp[dronenode]])+d_cost(V[tsp[dronenode]],V[tsp[(i+1)%n]])\n",
    "                            driveop[(tsp[dronenode],tsp[j-1],tsp[(i+1)%n])]=driveop[(tsp[dronenode],tsp[j-1],tsp[i%n])]+t_cost(V[tsp[i%n]],V[tsp[(i+1)%n]])\n",
    "                            operation[(tsp[dronenode],tsp[j-1],tsp[(i+1)%n])]=max(flyop[(tsp[dronenode],tsp[j-1],tsp[(i+1)%n])],driveop[(tsp[dronenode],tsp[j-1],tsp[(i+1)%n])])\n",
    "                            break\n",
    "                        j=j-1\n",
    "#     for i in range(n):\n",
    "#         plt.scatter(V[tsp[i]][0],V[tsp[i]][1],c='k')\n",
    "#         if label[tsp[i]]=='combined':\n",
    "#             j=(i+1)%n\n",
    "#             truck=[]\n",
    "#             while label[tsp[j]]!='combined':\n",
    "#                 if label[tsp[j]]=='drone':\n",
    "#                     dronenode=j\n",
    "#                 if label[tsp[j]]=='truck':\n",
    "#                     truck.append(j)\n",
    "#                 if label[tsp[(j+1)%n]]=='combined':\n",
    "#                     plt.plot([V[tsp[i]][0],V[tsp[dronenode]][0]],[V[tsp[i]][1],V[tsp[dronenode]][1]],c='blue')\n",
    "#                     plt.plot([V[tsp[(j+1)%n]][0],V[tsp[dronenode]][0]],[V[tsp[(j+1)%n]][1],V[tsp[dronenode]][1]],c='blue')\n",
    "#                     if len(truck)==0:\n",
    "#                         plt.plot([V[tsp[(j+1)%n]][0],V[tsp[i]][0]],[V[tsp[(j+1)%n]][1],V[tsp[i]][1]],c='red')\n",
    "#                     else:\n",
    "#                         plt.plot([V[tsp[i]][0],V[tsp[truck[0]]][0]],[V[tsp[i]][1],V[tsp[truck[0]]][1]],c='red')\n",
    "#                         plt.plot([V[tsp[(j+1)%n]][0],V[tsp[truck[-1]]][0]],[V[tsp[(j+1)%n]][1],V[tsp[truck[-1]]][1]],c='red')\n",
    "#                         for k in range(0,len(truck)-1):\n",
    "#                             plt.plot([V[truck[k]][0],V[truck[k+1]][0]],[V[truck[k]][1],V[truck[k+1]][1]],c='red')\n",
    "#                         truck=[]\n",
    "#                     break\n",
    "#                 j=(j+1)%n\n",
    "#             if label[tsp[j]]=='combined':\n",
    "#                 plt.plot([V[tsp[j]][0],V[tsp[i]][0]],[V[tsp[j]][1],V[tsp[i]][1]],c='red')\n",
    "                    \n",
    "            \n",
    "            \n",
    "    return tspdtotal\n",
    "            \n"
   ]
  },
  {
   "cell_type": "code",
   "execution_count": 1,
   "metadata": {
    "scrolled": false
   },
   "outputs": [
    {
     "ename": "NameError",
     "evalue": "name 'heuristic1' is not defined",
     "output_type": "error",
     "traceback": [
      "\u001b[1;31m---------------------------------------------------------------------------\u001b[0m",
      "\u001b[1;31mNameError\u001b[0m                                 Traceback (most recent call last)",
      "\u001b[1;32m<ipython-input-1-ea0e386cfc36>\u001b[0m in \u001b[0;36m<module>\u001b[1;34m\u001b[0m\n\u001b[1;32m----> 1\u001b[1;33m \u001b[0mheuristic1\u001b[0m\u001b[1;33m(\u001b[0m\u001b[0mtwo_opt\u001b[0m\u001b[1;33m(\u001b[0m\u001b[0mV\u001b[0m\u001b[1;33m)\u001b[0m\u001b[1;33m)\u001b[0m\u001b[1;33m\u001b[0m\u001b[1;33m\u001b[0m\u001b[0m\n\u001b[0m",
      "\u001b[1;31mNameError\u001b[0m: name 'heuristic1' is not defined"
     ]
    }
   ],
   "source": [
    "heuristic1(two_opt(V))"
   ]
  },
  {
   "cell_type": "code",
   "execution_count": 12,
   "metadata": {},
   "outputs": [],
   "source": [
    "import itertools\n",
    "def twopmove(lis,i,j):#iとjの順番を入れ替える\n",
    "    i0,j0=lis[i],lis[j]\n",
    "    lis[j]=i0\n",
    "    lis[i]=j0\n",
    "    return lis\n",
    "         \n",
    "def twooptmove(lis,i,j):#2辺を入れ替える\n",
    "    if i<j: lis=lis[:i+1]+lis[j:(i+1)%len(lis)-1:-1]+lis[(j+1):]\n",
    "    else: lis=[lis[i]]+lis[j::-1]+lis[:(i+1)%len(lis)-1:-1]+lis[j+1:i]\n",
    "        \n",
    "    return lis\n",
    "\n",
    "def onepmove(lis,i,j):#iをj番目に挿入する\n",
    "    i0=lis[i]\n",
    "    del lis[i]\n",
    "    lis.insert(j,i0)\n",
    "       \n",
    "    return lis\n",
    "    "
   ]
  },
  {
   "cell_type": "code",
   "execution_count": 13,
   "metadata": {},
   "outputs": [],
   "source": [
    "def improve_two_p(lis):\n",
    "    n=len(lis)\n",
    "    update=True\n",
    "    while update:\n",
    "        update=False\n",
    "        f=heuristic1(lis)\n",
    "        for (i,j) in itertools.combinations(range(n),2):\n",
    "            twopmove(lis,i,j)\n",
    "            if f>heuristic1(lis):\n",
    "                update=True\n",
    "                f=heuristic1(lis)\n",
    "                break\n",
    "            else:\n",
    "                twopmove(lis,i,j)        \n",
    "                \n",
    "    return lis,heuristic1(lis)\n",
    "\n",
    "def improve_two_opt(lis):\n",
    "    n=len(lis)\n",
    "    update=True\n",
    "    while update:\n",
    "        update=False\n",
    "        for (i,j) in itertools.combinations(range(n),2):\n",
    "            R=twooptmove(lis,i,j)\n",
    "            if heuristic1(lis)>heuristic1(R):\n",
    "                update=True\n",
    "                lis=R\n",
    "                break\n",
    "            else:\n",
    "                R=twooptmove(lis,i,j)        \n",
    "                \n",
    "    return lis,heuristic1(lis)\n",
    "\n",
    "def improve_one_p(lis):\n",
    "    n=len(lis)\n",
    "    update=True\n",
    "    while update:\n",
    "        update=False\n",
    "        f=heuristic1(lis)\n",
    "        for (i,j) in itertools.combinations(range(n),2):\n",
    "            twopmove(lis,i,j)\n",
    "            if f>heuristic1(lis):\n",
    "                update=True\n",
    "                f=heuristic1(lis)\n",
    "                break\n",
    "            else:\n",
    "                twopmove(lis,j,i)        \n",
    "                \n",
    "    return lis,heuristic1(lis)\n",
    "\n",
    "def improve_all_greedy(lis):\n",
    "    lis_all=[improve_two_p(lis)[1],improve_two_opt(lis)[1],improve_one_p(lis)[1]]\n",
    "    lis_All=[improve_two_p(lis),improve_two_opt(lis),improve_one_p(lis)]\n",
    "    for i in lis_All:\n",
    "        if i[1] == min(lis_all):\n",
    "            return i\n",
    "            break\n",
    "    \n",
    "    "
   ]
  },
  {
   "cell_type": "code",
   "execution_count": 14,
   "metadata": {},
   "outputs": [],
   "source": [
    "lis=two_opt(V)"
   ]
  },
  {
   "cell_type": "code",
   "execution_count": 15,
   "metadata": {},
   "outputs": [
    {
     "data": {
      "text/plain": [
       "[0, 3, 5, 4, 1, 2]"
      ]
     },
     "execution_count": 15,
     "metadata": {},
     "output_type": "execute_result"
    }
   ],
   "source": [
    "lis"
   ]
  },
  {
   "cell_type": "code",
   "execution_count": 16,
   "metadata": {},
   "outputs": [
    {
     "data": {
      "text/plain": [
       "84.0234079938713"
      ]
     },
     "execution_count": 16,
     "metadata": {},
     "output_type": "execute_result"
    }
   ],
   "source": [
    "heuristic1(lis)"
   ]
  },
  {
   "cell_type": "code",
   "execution_count": 17,
   "metadata": {},
   "outputs": [],
   "source": [
    "# improve_two_p(lis)"
   ]
  },
  {
   "cell_type": "code",
   "execution_count": 18,
   "metadata": {},
   "outputs": [],
   "source": [
    "# improve_two_opt(lis)"
   ]
  },
  {
   "cell_type": "code",
   "execution_count": 19,
   "metadata": {},
   "outputs": [],
   "source": [
    "# improve_one_p(lis)"
   ]
  },
  {
   "cell_type": "code",
   "execution_count": 20,
   "metadata": {},
   "outputs": [
    {
     "data": {
      "text/plain": [
       "([4, 5, 3, 0, 1, 2], 65.13210162931928)"
      ]
     },
     "execution_count": 20,
     "metadata": {},
     "output_type": "execute_result"
    }
   ],
   "source": [
    "improve_all(lis)"
   ]
  },
  {
   "cell_type": "code",
   "execution_count": 19,
   "metadata": {},
   "outputs": [],
   "source": [
    "testlis=improve_all(lis)[0]"
   ]
  },
  {
   "cell_type": "code",
   "execution_count": 22,
   "metadata": {},
   "outputs": [
    {
     "data": {
      "text/plain": [
       "109.53782078553178"
      ]
     },
     "execution_count": 22,
     "metadata": {},
     "output_type": "execute_result"
    },
    {
     "data": {
      "image/png": "[encoded data removed]",
      "text/plain": [
       "<Figure size 432x288 with 1 Axes>"
      ]
     },
     "metadata": {
      "needs_background": "light"
     },
     "output_type": "display_data"
    }
   ],
   "source": [
    "heuristic1(testlis)"
   ]
  },
  {
   "cell_type": "code",
   "execution_count": null,
   "metadata": {},
   "outputs": [],
   "source": []
  }
 ],
 "metadata": {
  "kernelspec": {
   "display_name": "Python 3",
   "language": "python",
   "name": "python3"
  },
  "language_info": {
   "codemirror_mode": {
    "name": "ipython",
    "version": 3
   },
   "file_extension": ".py",
   "mimetype": "text/x-python",
   "name": "python",
   "nbconvert_exporter": "python",
   "pygments_lexer": "ipython3",
   "version": "3.7.6"
  }
 },
 "nbformat": 4,
 "nbformat_minor": 4
}
