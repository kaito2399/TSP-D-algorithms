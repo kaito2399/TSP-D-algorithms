{
 "cells": [
  {
   "cell_type": "code",
   "execution_count": 68,
   "metadata": {},
   "outputs": [],
   "source": [
    "import random\n",
    "n=50\n",
    "V = [(random.uniform(5,75),random.uniform(5,55)) for i in range(n)]\n",
    "import matplotlib.pyplot as plt\n",
    "alpha=0.5"
   ]
  },
  {
   "cell_type": "code",
   "execution_count": 69,
   "metadata": {},
   "outputs": [
    {
     "data": {
      "image/png": "[encoded data removed]",
      "text/plain": [
       "<Figure size 432x288 with 1 Axes>"
      ]
     },
     "metadata": {
      "needs_background": "light"
     },
     "output_type": "display_data"
    }
   ],
   "source": [
    "import matplotlib.pyplot as plt\n",
    "for i in range(len(V)):\n",
    "    plt.scatter(V[i][0],V[i][1],c='k')\n",
    "plt.show()"
   ]
  },
  {
   "cell_type": "code",
   "execution_count": 70,
   "metadata": {},
   "outputs": [],
   "source": [
    "def t_cost(s,t): return ((s[0]-t[0])**2+(s[1]-t[1])**2)**(0.5)\n",
    "def d_cost(s,t): return alpha*(((s[0]-t[0])**2+(s[1]-t[1])**2)**(0.5))"
   ]
  },
  {
   "cell_type": "code",
   "execution_count": 71,
   "metadata": {},
   "outputs": [],
   "source": [
    "#最小全域木を求める（プリムのアルゴリズム）\n",
    "def Prim(V,E):\n",
    "    mst=[]\n",
    "    visited=set()\n",
    "    for i in E:\n",
    "        if E[i]==min(E.values()):\n",
    "            mst.append(i)\n",
    "            visited.add(i[0])\n",
    "            visited.add(i[1])\n",
    "            del E[i]\n",
    "            break\n",
    "            \n",
    "    while len(visited)<len(V):\n",
    "        tsuikakouho={}\n",
    "        for i in E:\n",
    "            if (i[0] in visited or i[1] in visited) and not (i[0] in visited and i[1] in visited):\n",
    "                tsuikakouho[i]=E[i]\n",
    "        for i in tsuikakouho:\n",
    "            if tsuikakouho[i]==min(tsuikakouho.values()):\n",
    "                mst.append(i)\n",
    "                visited.add(i[0])\n",
    "                visited.add(i[1])\n",
    "                del E[i]\n",
    "                break\n",
    "            \n",
    "            \n",
    "            \n",
    "            \n",
    "    return mst\n",
    "        \n",
    "    \n",
    "    "
   ]
  },
  {
   "cell_type": "code",
   "execution_count": 72,
   "metadata": {},
   "outputs": [],
   "source": [
    "def tspheuristic(V,E,start):\n",
    "    route=[]\n",
    "    visited=set()\n",
    "    eda={}\n",
    "    for i in E: eda[i]=E[i]\n",
    "    p=Prim(V,eda)\n",
    "    route.append(start)\n",
    "    visited.add(start)\n",
    "    while len(route)<len(V):\n",
    "        nextedge=set()\n",
    "        for i in range(len(p)):\n",
    "            if (route[-1]==p[i][0]) and not(p[i][1] in visited):\n",
    "                nextedge.add(p[i])\n",
    "            elif (route[-1]==p[i][1]) and not(p[i][0] in visited):\n",
    "                nextedge.add(p[i])\n",
    "        if len(nextedge)==0:\n",
    "            for i in E:\n",
    "                if (route[-1]==i[0]) and not (i[1] in visited):\n",
    "                    nextedge.add(i)\n",
    "                elif (route[-1]==i[1]) and not (i[0] in visited):\n",
    "                    nextedge.add(i)\n",
    "        for i in nextedge:\n",
    "            if E[i]==min([E[i] for i in nextedge]):\n",
    "                if route[-1]==i[0]:\n",
    "                    route.append(i[1])\n",
    "                    visited.add(i[1])\n",
    "                elif route[-1]==i[1]:\n",
    "                    route.append(i[0])\n",
    "                    visited.add(i[0])\n",
    "                    \n",
    "    for i in range(len(V)):\n",
    "        plt.scatter(V[start][0],V[start][1],c='red')\n",
    "        plt.scatter(V[i][0],V[i][1],c='k')\n",
    "        connect_x=[V[route[i]][0],V[route[(i+1)%len(V)]][0]]\n",
    "        connect_y=[V[route[i]][1],V[route[(i+1)%len(V)]][1]]\n",
    "        plt.plot(connect_x,connect_y, c='red')\n",
    "            \n",
    "\n",
    "    \n",
    "    return route\n",
    "\n",
    "    \n",
    "    \n",
    "        "
   ]
  },
  {
   "cell_type": "code",
   "execution_count": 73,
   "metadata": {},
   "outputs": [
    {
     "data": {
      "text/plain": [
       "[0,\n",
       " 9,\n",
       " 38,\n",
       " 17,\n",
       " 26,\n",
       " 27,\n",
       " 5,\n",
       " 18,\n",
       " 4,\n",
       " 21,\n",
       " 37,\n",
       " 22,\n",
       " 29,\n",
       " 16,\n",
       " 36,\n",
       " 2,\n",
       " 41,\n",
       " 48,\n",
       " 25,\n",
       " 28,\n",
       " 30,\n",
       " 44,\n",
       " 23,\n",
       " 31,\n",
       " 42,\n",
       " 34,\n",
       " 20,\n",
       " 19,\n",
       " 10,\n",
       " 39,\n",
       " 6,\n",
       " 32,\n",
       " 13,\n",
       " 46,\n",
       " 1,\n",
       " 3,\n",
       " 40,\n",
       " 43,\n",
       " 47,\n",
       " 11,\n",
       " 12,\n",
       " 49,\n",
       " 8,\n",
       " 24,\n",
       " 7,\n",
       " 45,\n",
       " 15,\n",
       " 14,\n",
       " 33,\n",
       " 35]"
      ]
     },
     "execution_count": 73,
     "metadata": {},
     "output_type": "execute_result"
    },
    {
     "data": {
      "image/png": "[encoded data removed]",
      "text/plain": [
       "<Figure size 432x288 with 1 Axes>"
      ]
     },
     "metadata": {
      "needs_background": "light"
     },
     "output_type": "display_data"
    }
   ],
   "source": [
    "import itertools\n",
    "edges=[i for i in itertools.combinations(range(len(V)),2)]\n",
    "edgecost=[t_cost(V[edges[i][0]],V[edges[i][1]]) for i in range(len(edges))]\n",
    "E={}\n",
    "for i in range(len(edges)):\n",
    "    E[(edges[i])]=edgecost[i]\n",
    "# Prim(V,E)\n",
    "tspheuristic(V,E,0)\n"
   ]
  },
  {
   "cell_type": "code",
   "execution_count": 139,
   "metadata": {},
   "outputs": [
    {
     "data": {
      "text/plain": [
       "[(0, 3), (0, 1), (1, 4), (1, 2)]"
      ]
     },
     "execution_count": 139,
     "metadata": {},
     "output_type": "execute_result"
    }
   ],
   "source": [
    "Prim(V,E)"
   ]
  },
  {
   "cell_type": "code",
   "execution_count": 196,
   "metadata": {},
   "outputs": [],
   "source": [
    "v={1,2,3,4,5}"
   ]
  },
  {
   "cell_type": "code",
   "execution_count": 202,
   "metadata": {},
   "outputs": [
    {
     "data": {
      "text/plain": [
       "True"
      ]
     },
     "execution_count": 202,
     "metadata": {},
     "output_type": "execute_result"
    }
   ],
   "source": [
    "not(8 in v) and len(v)==5"
   ]
  },
  {
   "cell_type": "code",
   "execution_count": null,
   "metadata": {},
   "outputs": [],
   "source": []
  }
 ],
 "metadata": {
  "kernelspec": {
   "display_name": "Python 3",
   "language": "python",
   "name": "python3"
  },
  "language_info": {
   "codemirror_mode": {
    "name": "ipython",
    "version": 3
   },
   "file_extension": ".py",
   "mimetype": "text/x-python",
   "name": "python",
   "nbconvert_exporter": "python",
   "pygments_lexer": "ipython3",
   "version": "3.7.6"
  }
 },
 "nbformat": 4,
 "nbformat_minor": 4
}
