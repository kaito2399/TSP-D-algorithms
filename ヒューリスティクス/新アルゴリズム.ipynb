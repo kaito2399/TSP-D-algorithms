{
 "cells": [
  {
   "cell_type": "code",
   "execution_count": 1,
   "metadata": {},
   "outputs": [],
   "source": [
    "import random\n",
    "n=12\n",
    "V = [(random.uniform(5,75),random.uniform(5,55)) for i in range(n)]\n",
    "import matplotlib.pyplot as plt\n",
    "alpha=2"
   ]
  },
  {
   "cell_type": "code",
   "execution_count": 2,
   "metadata": {
    "scrolled": true
   },
   "outputs": [],
   "source": [
    "V=[(56.61660273078869, 33.21292042539632),\n",
    " (17.398701424407054, 23.696334251033907),\n",
    " (51.49620601942929, 45.927082293010955),\n",
    " (40.966767249167155, 49.83967303450561),\n",
    " (57.56850794908499, 8.181475412704131),\n",
    " (5.89281193999469, 20.32551461530387),\n",
    " (72.04204605109514, 44.52005511345353),\n",
    " (45.3905916342743, 49.036810149182706),\n",
    " (48.44172027948126, 21.685171823641596),\n",
    " (45.02553381557346, 9.37479420791656),\n",
    " (28.197619438757304, 17.60994937589181),\n",
    " (33.10038299935094, 14.701121618940972)]"
   ]
  },
  {
   "cell_type": "code",
   "execution_count": 3,
   "metadata": {},
   "outputs": [],
   "source": [
    "alpha=2\n",
    "def t_cost(s,t): return ((s[0]-t[0])**2+(s[1]-t[1])**2)**(0.5)\n",
    "def d_cost(s,t): return (1/alpha)*(((s[0]-t[0])**2+(s[1]-t[1])**2)**(0.5))"
   ]
  },
  {
   "cell_type": "code",
   "execution_count": 4,
   "metadata": {},
   "outputs": [],
   "source": [
    "def tpath_pathcost(start,end,tpath):\n",
    "    pathcost=0\n",
    "    a=tpath.index(start)\n",
    "    b=tpath.index(end)\n",
    "    if a<b:\n",
    "        for i in range(a,b):\n",
    "            pathcost=pathcost+t_cost(V[tpath[i]],V[tpath[(i+1)%len(tpath)]])\n",
    "    if a>b:\n",
    "        for i in range(a,len(tpath)):\n",
    "            pathcost=pathcost+t_cost(V[tpath[i]],V[tpath[(i+1)%len(tpath)]])\n",
    "        for i in range(b):\n",
    "            pathcost=pathcost+t_cost(V[tpath[i]],V[tpath[(i+1)%len(tpath)]])\n",
    "    if a==b:\n",
    "        pathcost=0\n",
    "            \n",
    "    return pathcost"
   ]
  },
  {
   "cell_type": "code",
   "execution_count": 5,
   "metadata": {},
   "outputs": [],
   "source": [
    "import statistics\n",
    "x=[V[i][0] for i in range(n)]\n",
    "y=[V[i][1] for i in range(n)]\n",
    "def center(V):\n",
    "    return [statistics.mean(x),statistics.mean(y)]"
   ]
  },
  {
   "cell_type": "code",
   "execution_count": 7,
   "metadata": {},
   "outputs": [
    {
     "data": {
      "image/png": "[encoded data removed]",
      "text/plain": [
       "<Figure size 432x288 with 1 Axes>"
      ]
     },
     "metadata": {
      "needs_background": "light"
     },
     "output_type": "display_data"
    }
   ],
   "source": [
    "import matplotlib.pyplot as plt\n",
    "for i in range(len(V)):\n",
    "    plt.scatter(V[i][0],V[i][1],c='k')\n",
    "\n",
    "plt.scatter(center(V)[0],center(V)[1],c='red')\n",
    "plt.show()"
   ]
  },
  {
   "cell_type": "code",
   "execution_count": 9,
   "metadata": {},
   "outputs": [],
   "source": [
    "import itertools\n",
    "import matplotlib.pyplot as plt\n",
    "def two_opt_truck(ps,truck_nodes):\n",
    "    n = len(ps)\n",
    "    res = list(range(n))\n",
    "    update = True\n",
    "    while update:\n",
    "        update = False\n",
    "        for (i,j) in itertools.combinations(range(n),2):\n",
    "            if ((t_cost(ps[res[i]],ps[res[i+1]])+t_cost(ps[res[j]],ps[res[(j+1)%n]]))>\n",
    "                (t_cost(ps[res[i]],ps[res[j]])+t_cost(ps[res[i+1]],ps[res[(j+1)%n]]))):\n",
    "                res[i+1:j+1] = res[j:i:-1]\n",
    "                update = True\n",
    "                \n",
    "    path=[truck_nodes[i] for i in res]\n",
    "\n",
    "    return path"
   ]
  },
  {
   "cell_type": "code",
   "execution_count": 10,
   "metadata": {},
   "outputs": [],
   "source": [
    "def dp_truck(ps,truck_nodes):\n",
    "    length = {} # length[(u,S)]: u を始点とし S の点すべてを回る最小経路長、ディクショナリ\n",
    "    route = {} # route[(u,S)]: 最小経路長を達成するためのルート、ディクショナリ\n",
    "    v = ps[0]\n",
    "    n = len(ps)\n",
    "    for i in range(1,n+1):\n",
    "        for a in itertools.combinations(range(n),i):\n",
    "            S = frozenset(a)\n",
    "            for j in S:\n",
    "                u = ps[j]\n",
    "                if i==1:\n",
    "                    length[(j,S)] = t_cost(v,u)\n",
    "                    route[(j,S)] = [j]\n",
    "                else:\n",
    "                    Sj = S-set([j]) # S から j を除いたもの\n",
    "                    k=min(Sj,key=lambda k: length[(k,Sj)]+t_cost(ps[k],u))#Sjの中でlength[(k,Sj)]+dist(ps[k],u)が最小のものを返している\n",
    "                    length[(j,S)] = length[(k,Sj)]+t_cost(ps[k],u)\n",
    "                    route[(j,S)] = route[(k,Sj)]+[j]\n",
    "    path=[truck_nodes[i] for i in route[(0,frozenset(range(n)))]]\n",
    "    \n",
    "    return path "
   ]
  },
  {
   "cell_type": "code",
   "execution_count": 11,
   "metadata": {},
   "outputs": [],
   "source": [
    "#トラックのルートをtwo-optで求める\n",
    "import itertools\n",
    "def newalgo_twoopt(V):\n",
    "    n=len(V)\n",
    "    ndmin=2\n",
    "    ndmax=n//2\n",
    "    c=center(V)\n",
    "    D={}\n",
    "    for nd in range(ndmin,ndmax+1):\n",
    "        length={i:t_cost(c,V[i]) for i in range(n)}\n",
    "        drone_nodes=[]\n",
    "        truck_nodes=[]\n",
    "        T={}\n",
    "        for i in range(nd):\n",
    "            drone_nodes.append(max(length, key=length.get))\n",
    "            del length[max(length, key=length.get)]\n",
    "        truck_nodes=list(set(range(n))-set(drone_nodes))\n",
    "        t=[V[i] for i in truck_nodes]\n",
    "        tpath=two_opt_truck(t,truck_nodes)\n",
    "        for drone in drone_nodes:\n",
    "            for (start,end) in itertools.permutations(tpath,2):\n",
    "                drone_cost=d_cost(V[start],V[drone])+d_cost(V[drone],V[end])\n",
    "                truck_cost=tpath_pathcost(start,end,tpath)\n",
    "                T[start,drone,end]=max(drone_cost,truck_cost)\n",
    "\n",
    "        #ドローンとトラックが一緒に移動する場合は考えない\n",
    "        dc=[b for b in itertools.permutations(drone_nodes,nd)]#ドローンノードの訪れる順番\n",
    "        tc=[a for a in itertools.combinations(tpath,nd)]#トラックノードのうちどれをスタートノード、エンドノードとするか\n",
    "        for comb in itertools.product(tc,dc):\n",
    "            d=0\n",
    "            for j in range(nd):\n",
    "                d=d+T[comb[0][j],comb[1][j],comb[0][(j+1)%nd]]\n",
    "            D[comb]=d,tpath\n",
    "                \n",
    "    res=min(D.values())\n",
    "    path=min(D,key=D.get)\n",
    "        \n",
    "        \n",
    "    return res,path"
   ]
  },
  {
   "cell_type": "code",
   "execution_count": 14,
   "metadata": {},
   "outputs": [],
   "source": [
    "#トラックのルートをdp（動的計画）で求める\n",
    "import itertools\n",
    "def newalgo_dp(V):\n",
    "    n=len(V)\n",
    "    ndmin=2\n",
    "    ndmax=n//2\n",
    "    c=center(V)\n",
    "    D={}\n",
    "    for nd in range(ndmin,ndmax+1):\n",
    "        length={i:t_cost(c,V[i]) for i in range(n)}\n",
    "        drone_nodes=[]\n",
    "        truck_nodes=[]\n",
    "        T={}\n",
    "        for i in range(nd):\n",
    "            drone_nodes.append(max(length, key=length.get))\n",
    "            del length[max(length, key=length.get)]\n",
    "        truck_nodes=list(set(range(n))-set(drone_nodes))\n",
    "        t=[V[i] for i in truck_nodes]\n",
    "        tpath=dp_truck(t,truck_nodes)\n",
    "        for drone in drone_nodes:\n",
    "            for (start,end) in itertools.permutations(tpath,2):\n",
    "                drone_cost=d_cost(V[start],V[drone])+d_cost(V[drone],V[end])\n",
    "                truck_cost=tpath_pathcost(start,end,tpath)\n",
    "                T[start,drone,end]=max(drone_cost,truck_cost)\n",
    "\n",
    "\n",
    "\n",
    "        tc=[a for a in itertools.combinations(tpath,nd)]\n",
    "        dc=[b for b in itertools.permutations(drone_nodes,nd)]\n",
    "        for comb in itertools.product(tc,dc):\n",
    "            d=0\n",
    "            for j in range(nd):\n",
    "                d=d+T[comb[0][j],comb[1][j],comb[0][(j+1)%nd]]\n",
    "            D[comb]=d,tpath\n",
    "                \n",
    "    res=min(D.values()) \n",
    "    path=min(D,key=D.get)\n",
    "        \n",
    "        \n",
    "    return res,path"
   ]
  },
  {
   "cell_type": "code",
   "execution_count": 15,
   "metadata": {},
   "outputs": [
    {
     "data": {
      "text/plain": [
       "107.73187049806812"
      ]
     },
     "execution_count": 15,
     "metadata": {},
     "output_type": "execute_result"
    }
   ],
   "source": [
    "newalgo_dp(V)"
   ]
  },
  {
   "cell_type": "code",
   "execution_count": 29,
   "metadata": {},
   "outputs": [
    {
     "data": {
      "text/plain": [
       "((107.73187049806813, [0, 2, 7, 10, 11, 9, 8]),\n",
       " ((2, 7, 10, 9, 8), (3, 5, 1, 4, 6)))"
      ]
     },
     "execution_count": 29,
     "metadata": {},
     "output_type": "execute_result"
    }
   ],
   "source": [
    "newalgo_twoopt(V)"
   ]
  },
  {
   "cell_type": "code",
   "execution_count": null,
   "metadata": {},
   "outputs": [],
   "source": []
  },
  {
   "cell_type": "code",
   "execution_count": null,
   "metadata": {},
   "outputs": [],
   "source": []
  }
 ],
 "metadata": {
  "kernelspec": {
   "display_name": "Python 3",
   "language": "python",
   "name": "python3"
  },
  "language_info": {
   "codemirror_mode": {
    "name": "ipython",
    "version": 3
   },
   "file_extension": ".py",
   "mimetype": "text/x-python",
   "name": "python",
   "nbconvert_exporter": "python",
   "pygments_lexer": "ipython3",
   "version": "3.7.6"
  }
 },
 "nbformat": 4,
 "nbformat_minor": 4
}
