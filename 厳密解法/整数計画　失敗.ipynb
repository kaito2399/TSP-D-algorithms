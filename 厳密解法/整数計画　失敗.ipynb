{
 "cells": [
  {
   "cell_type": "code",
   "execution_count": 2,
   "metadata": {},
   "outputs": [],
   "source": [
    "import random\n",
    "n=5\n",
    "V = [(random.uniform(5,75),random.uniform(5,55)) for i in range(n)]\n",
    "import matplotlib.pyplot as plt\n",
    "alpha=0.5"
   ]
  },
  {
   "cell_type": "code",
   "execution_count": 3,
   "metadata": {},
   "outputs": [],
   "source": [
    "def t_cost(s,t): return ((s[0]-t[0])**2+(s[1]-t[1])**2)**(0.5)\n",
    "def d_cost(s,t): return alpha*(((s[0]-t[0])**2+(s[1]-t[1])**2)**(0.5))"
   ]
  },
  {
   "cell_type": "code",
   "execution_count": 12,
   "metadata": {},
   "outputs": [
    {
     "name": "stdout",
     "output_type": "stream",
     "text": [
      "Infeasible\n",
      "objective: 0.0\n"
     ]
    }
   ],
   "source": [
    "import pulp\n",
    "import itertools\n",
    "prob =pulp.LpProblem(\"drone_salesman\")\n",
    "\n",
    "x_t=[pulp.LpVariable('x_truck{}{}'.format(i,j),cat=pulp.LpBinary) for (i,j) in itertools.product(range(n),repeat=2)]\n",
    "x_truck=[x_t[i:i+n] for i in range(0,len(x_t),n)]\n",
    "x_d=[pulp.LpVariable('x_drone{}{}'.format(i,j),cat=pulp.LpBinary) for (i,j) in itertools.product(range(n),repeat=2)]\n",
    "x_drone=[x_d[i:i+n] for i in range(0,len(x_d),n)]\n",
    "y_truck=[pulp.LpVariable('y_truck{}'.format(i),cat=pulp.LpBinary) for i in range(n)]\n",
    "y_drone=[pulp.LpVariable('y_drone{}'.format(i),cat=pulp.LpBinary) for i in range(n)]\n",
    "y_combined=[pulp.LpVariable('y_combined{}'.format(i),cat=pulp.LpBinary) for i in range(n)]\n",
    "a=[pulp.LpVariable('a{}'.format(i),0) for i in range(n+1)]\n",
    "a[0]=0\n",
    "\n",
    "prob += a[-1]\n",
    "\n",
    "s_truck=[[] for i in range(n)]\n",
    "s_drone=[[] for i in range(n)]\n",
    "M=1000\n",
    "for (i,j) in itertools.permutations(range(n),2):\n",
    "    s_truck[j].append(x_truck[i][j])\n",
    "    s_drone[j].append(x_drone[i][j])\n",
    "    prob += a[i]+t_cost(V[i],V[j])<=a[j]+M*(1-x_truck[i][j])\n",
    "    prob += a[i]+d_cost(V[i],V[j])<=a[j]+M*(1-x_drone[i][j])\n",
    "    \n",
    "    \n",
    "    \n",
    "for (i,j) in itertools.combinations(range(n),2):\n",
    "    prob += x_drone[i][j]+x_drone[j][i]<=y_combined[i]+y_combined[j]\n",
    "for i in range(n):\n",
    "    prob += pulp.lpSum(x_truck[i]) == pulp.lpSum(s_truck[i])\n",
    "    prob += pulp.lpSum(x_drone[i]) == pulp.lpSum(s_drone[i])\n",
    "    prob += pulp.lpSum(x_truck[i]) == y_truck[i]+y_combined[i]\n",
    "    prob += pulp.lpSum(x_drone[i]) == y_drone[i]+y_combined[i]\n",
    "    prob += y_truck[i]+y_drone[i]+y_combined[i] == 1\n",
    "    prob += x_drone[0][i]+x_drone[i][0] <= 1\n",
    "    \n",
    "\n",
    "prob += pulp.lpSum(x_truck[0]) == 1\n",
    "prob += pulp.lpSum(x_drone[0]) == 1\n",
    "\n",
    "\n",
    "\n",
    "\n",
    "    \n",
    "\n",
    "    \n",
    "\n",
    "    \n",
    "\n",
    "prob.solve()\n",
    "print(pulp.LpStatus[prob.status]) \n",
    "print(\"objective: {}\".format(pulp.value(prob.objective)))"
   ]
  },
  {
   "cell_type": "code",
   "execution_count": 4,
   "metadata": {},
   "outputs": [
    {
     "name": "stdout",
     "output_type": "stream",
     "text": [
      "x23\n"
     ]
    }
   ],
   "source": [
    "print(\"x{}{}\".format(2,3))"
   ]
  },
  {
   "cell_type": "code",
   "execution_count": 37,
   "metadata": {},
   "outputs": [],
   "source": [
    "q=[1,2,3,4]"
   ]
  },
  {
   "cell_type": "code",
   "execution_count": 38,
   "metadata": {},
   "outputs": [
    {
     "data": {
      "text/plain": [
       "10"
      ]
     },
     "execution_count": 38,
     "metadata": {},
     "output_type": "execute_result"
    }
   ],
   "source": [
    "sum(q)"
   ]
  },
  {
   "cell_type": "code",
   "execution_count": null,
   "metadata": {},
   "outputs": [],
   "source": []
  }
 ],
 "metadata": {
  "kernelspec": {
   "display_name": "Python 3",
   "language": "python",
   "name": "python3"
  },
  "language_info": {
   "codemirror_mode": {
    "name": "ipython",
    "version": 3
   },
   "file_extension": ".py",
   "mimetype": "text/x-python",
   "name": "python",
   "nbconvert_exporter": "python",
   "pygments_lexer": "ipython3",
   "version": "3.7.6"
  }
 },
 "nbformat": 4,
 "nbformat_minor": 4
}
