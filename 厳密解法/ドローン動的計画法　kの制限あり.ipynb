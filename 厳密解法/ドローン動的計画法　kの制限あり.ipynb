{
 "cells": [
  {
   "cell_type": "code",
   "execution_count": 41,
   "metadata": {},
   "outputs": [],
   "source": [
    "import random\n",
    "n=12\n",
    "V = [(random.uniform(5,75),random.uniform(5,55)) for i in range(n)]\n",
    "def cost(s,t): return ((s[0]-t[0])**2+(s[1]-t[1])**2)**(0.5)\n"
   ]
  },
  {
   "cell_type": "code",
   "execution_count": 42,
   "metadata": {},
   "outputs": [],
   "source": [
    "alpha=0.5\n",
    "k=0"
   ]
  },
  {
   "cell_type": "code",
   "execution_count": 43,
   "metadata": {},
   "outputs": [
    {
     "data": {
      "image/png": "[encoded data removed]",
      "text/plain": [
       "<Figure size 432x288 with 1 Axes>"
      ]
     },
     "metadata": {
      "needs_background": "light"
     },
     "output_type": "display_data"
    }
   ],
   "source": [
    "import matplotlib.pyplot as plt\n",
    "for i in range(len(V)):\n",
    "    plt.scatter(V[i][0],V[i][1],c='k')\n",
    "plt.show()"
   ]
  },
  {
   "cell_type": "code",
   "execution_count": 44,
   "metadata": {},
   "outputs": [],
   "source": [
    "def t_cost(s,t): return ((s[0]-t[0])**2+(s[1]-t[1])**2)**(0.5)\n",
    "def d_cost(s,t): return alpha*(((s[0]-t[0])**2+(s[1]-t[1])**2)**(0.5))\n",
    "    "
   ]
  },
  {
   "cell_type": "code",
   "execution_count": 45,
   "metadata": {},
   "outputs": [],
   "source": [
    "#First Pass\n",
    "import itertools\n",
    "n=len(V)\n",
    "Dt={}\n",
    "truck={}\n",
    "for i in range(1,k+4):\n",
    "    for a in itertools.combinations(range(n),i):\n",
    "        S=frozenset(a)\n",
    "        for v in range(n):#始点\n",
    "            for w in S:#終点\n",
    "                Dt[(S,v,w)]=float('inf')#無限大に初期化\n",
    "for i in range(1,k+4):\n",
    "    for a in itertools.combinations(range(n),i):\n",
    "        S=frozenset(a)\n",
    "        for v in range(n):\n",
    "            for w in S:\n",
    "                if i==1:\n",
    "                    Dt[(S,v,w)]=t_cost(V[v],V[w])\n",
    "                    truck[(S,v,w)]=[w]\n",
    "                else:\n",
    "                    Sw=S-set([w])\n",
    "                    for u in Sw:\n",
    "                        z=Dt[(Sw,v,u)]+t_cost(V[u],V[w])\n",
    "                        p=truck[(Sw,v,u)]+[w]\n",
    "                        if z<Dt[(S,v,w)]:\n",
    "                            Dt[(S,v,w)]=z\n",
    "                            truck[(S,v,w)]=p\n",
    "\n",
    "\n",
    "                            "
   ]
  },
  {
   "cell_type": "code",
   "execution_count": 46,
   "metadata": {},
   "outputs": [],
   "source": [
    "#Second Pass\n",
    "import itertools\n",
    "n=len(V)\n",
    "Dop={}\n",
    "operation={}\n",
    "for i in range(1,k+4):\n",
    "    for a in itertools.combinations(range(n),i):\n",
    "        S=frozenset(a)\n",
    "        for v in range(n):#始点\n",
    "            for w in S:#終点\n",
    "                Dop[(S,v,w)]=Dt[(S,v,w)]#初期値\n",
    "                \n",
    "for i in range(1,k+4):\n",
    "    for a in itertools.combinations(range(n),i):\n",
    "        S=frozenset(a)\n",
    "        for v in range(n):\n",
    "            for w in S:\n",
    "                if i==1:\n",
    "                    Dop[(S,v,w)]=Dt[(S,v,w)]\n",
    "                    operation[(S,v,w)]=truck[(S,v,w)]\n",
    "                else:\n",
    "                    Svw=S-set([v])-set([w])\n",
    "                    for d in Svw:\n",
    "                        drone_cost=d_cost(V[v],V[d])+d_cost(V[d],V[w])\n",
    "                        Sd=S-set([d])\n",
    "                        z=max(drone_cost,Dt[(Sd,v,w)])\n",
    "                        if z<Dop[(S,v,w)]:\n",
    "                            Dop[(S,v,w)]=z\n",
    "                            operation[(S,v,w)]=truck[(Sd,v,w)]+[[d]]\n",
    "                 \n",
    "\n",
    "                \n",
    "                    \n",
    "                        \n",
    "                                \n",
    "\n",
    "    #Dop(S,v,w)とはv\\inS,w\\inSでありvからスタートしてSの全ての点を通ってwで終わることを表す"
   ]
  },
  {
   "cell_type": "code",
   "execution_count": 47,
   "metadata": {},
   "outputs": [],
   "source": [
    "#third pass\n",
    "import matplotlib.pyplot as plt\n",
    "def Algorithm2k(V,v0):\n",
    "    n=len(V)\n",
    "    D={}\n",
    "    route={}\n",
    "    for i in range(1,n+1):\n",
    "        for a in itertools.combinations(range(n),i):\n",
    "            S=frozenset(a)\n",
    "            for w in S:\n",
    "                D[(S,w)]=float('inf')\n",
    "    for i in range(n):\n",
    "        D[(frozenset({i}),i)]=Dop[(frozenset({i}),v0,i)]\n",
    "        route[(frozenset({i}),i)]=[operation[(frozenset({i}),v0,i)]]\n",
    "    for i in range(1,n+1):\n",
    "        for a in itertools.combinations(range(n),i):\n",
    "            U=set(a)#Vの部分集合\n",
    "            T=set(range(n))-U#T=V-U\n",
    "            for j in range(1,k+4):\n",
    "                for b in itertools.combinations(T,j):\n",
    "                    Tset=set(b)#Tの部分集合\n",
    "                    for u in U:\n",
    "                        for w in Tset:\n",
    "                            z=D[(frozenset(U),u)]+Dop[(frozenset(Tset),u,w)]\n",
    "                            p=route[(frozenset(U),u)]+[operation[(frozenset(Tset),u,w)]]\n",
    "                            if z<D[(frozenset(U|Tset),w)]:\n",
    "                                D[(frozenset(U|Tset),w)]=z\n",
    "                                route[(frozenset(U|Tset),w)]=p\n",
    "                                \n",
    "                                \n",
    "    path = route[(frozenset(range(n)),v0)]\n",
    "    for i in range(n):\n",
    "        plt.scatter(V[v0][0],V[v0][1],c='red')\n",
    "        plt.scatter(V[i][0],V[i][1],c='k')\n",
    "    for i in range(len(path)):\n",
    "        if len(path[i])>=3:\n",
    "            for j in range(len(path[i])-2):\n",
    "                truck_x=[V[path[i][j]][0],V[path[i][j+1]][0]]\n",
    "                truck_y=[V[path[i][j]][1],V[path[i][j+1]][1]]\n",
    "                plt.plot(truck_x, truck_y,c='red')\n",
    "            truck_x=[V[path[i][-2]][0],V[path[(i+1)%len(path)][0]][0]]\n",
    "            truck_y=[V[path[i][-2]][1],V[path[(i+1)%len(path)][0]][1]]\n",
    "            drone_x1=[V[path[i][0]][0],V[path[i][-1][0]][0]]\n",
    "            drone_y1=[V[path[i][0]][1],V[path[i][-1][0]][1]]\n",
    "            drone_x2=[V[path[i][-1][0]][0],V[path[i][-2]][0]]\n",
    "            drone_y2=[V[path[i][-1][0]][1],V[path[i][-2]][1]]\n",
    "            plt.plot(truck_x,truck_y,c='red')\n",
    "            plt.plot(drone_x1,drone_y1, c='blue')\n",
    "            plt.plot(drone_x2,drone_y2, c='blue')\n",
    "        elif len(path[i])==1:\n",
    "            truck_x=[V[path[i][0]][0],V[path[i+1][0]][0]]\n",
    "            truck_y=[V[path[i][0]][1],V[path[i+1][0]][1]]\n",
    "            plt.plot(truck_x,truck_y, c='red')\n",
    "        else:\n",
    "            truck_x=[V[path[i][-2]][0],V[path[(i+1)%len(path)][0]][0]]\n",
    "            truck_y=[V[path[i][-2]][1],V[path[(i+1)%len(path)][0]][1]]\n",
    "            if len(path[i-1])==1:\n",
    "                drone_x1=[V[path[i-1][0]][0],V[path[i][-1][0]][0]]\n",
    "                drone_y1=[V[path[i-1][0]][1],V[path[i][-1][0]][1]]\n",
    "            else:\n",
    "                drone_x1=[V[path[i-1][-2]][0],V[path[i][-1][0]][0]]\n",
    "                drone_y1=[V[path[i-1][-2]][1],V[path[i][-1][0]][1]]\n",
    "            drone_x2=[V[path[i][-1][0]][0],V[path[i][-2]][0]]\n",
    "            drone_y2=[V[path[i][-1][0]][1],V[path[i][-2]][1]]\n",
    "            plt.plot(truck_x,truck_y,c='red')\n",
    "            plt.plot(drone_x1,drone_y1, c='blue')\n",
    "            plt.plot(drone_x2,drone_y2, c='blue')\n",
    "    \n",
    "            \n",
    "    return path\n",
    "                            \n",
    "                    \n",
    "                  \n"
   ]
  },
  {
   "cell_type": "code",
   "execution_count": 48,
   "metadata": {},
   "outputs": [
    {
     "data": {
      "text/plain": [
       "[[10], [4, 1, [2]], [3, 7, [11]], [6, [9]], [5, 0, [8]]]"
      ]
     },
     "execution_count": 48,
     "metadata": {},
     "output_type": "execute_result"
    },
    {
     "data": {
      "image/png": "[encoded data removed]",
      "text/plain": [
       "<Figure size 432x288 with 1 Axes>"
      ]
     },
     "metadata": {
      "needs_background": "light"
     },
     "output_type": "display_data"
    }
   ],
   "source": [
    "Algorithm2k(V,0)"
   ]
  },
  {
   "cell_type": "code",
   "execution_count": null,
   "metadata": {},
   "outputs": [],
   "source": []
  }
 ],
 "metadata": {
  "kernelspec": {
   "display_name": "Python 3",
   "language": "python",
   "name": "python3"
  },
  "language_info": {
   "codemirror_mode": {
    "name": "ipython",
    "version": 3
   },
   "file_extension": ".py",
   "mimetype": "text/x-python",
   "name": "python",
   "nbconvert_exporter": "python",
   "pygments_lexer": "ipython3",
   "version": "3.7.6"
  }
 },
 "nbformat": 4,
 "nbformat_minor": 4
}
