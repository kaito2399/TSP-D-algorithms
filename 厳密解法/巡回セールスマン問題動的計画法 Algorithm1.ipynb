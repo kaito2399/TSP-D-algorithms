{
 "cells": [
  {
   "cell_type": "code",
   "execution_count": 110,
   "metadata": {},
   "outputs": [],
   "source": [
    "import random\n",
    "n=8\n",
    "V = [(random.uniform(5,75),random.uniform(5,55)) for i in range(n)]\n",
    "def cost(s,t): return ((s[0]-t[0])**2+(s[1]-t[1])**2)**(0.5)\n"
   ]
  },
  {
   "cell_type": "code",
   "execution_count": 111,
   "metadata": {},
   "outputs": [],
   "source": [
    "# V=[(10,10),(40,10),(40,50)]"
   ]
  },
  {
   "cell_type": "code",
   "execution_count": 112,
   "metadata": {},
   "outputs": [
    {
     "data": {
      "image/png": "[encoded data removed]",
      "text/plain": [
       "<Figure size 432x288 with 1 Axes>"
      ]
     },
     "metadata": {
      "needs_background": "light"
     },
     "output_type": "display_data"
    }
   ],
   "source": [
    "import matplotlib.pyplot as plt\n",
    "for i in range(len(V)):\n",
    "    plt.scatter(V[i][0],V[i][1],c='lime')\n",
    "plt.show()"
   ]
  },
  {
   "cell_type": "code",
   "execution_count": 113,
   "metadata": {},
   "outputs": [],
   "source": [
    "import itertools\n",
    "import matplotlib.pyplot as plt\n",
    "def TSPalgorithm1(V,v):\n",
    "    n=len(V)\n",
    "    Dtsp={}\n",
    "    route={}\n",
    "    for i in range(1,n+1):\n",
    "        for a in itertools.combinations(range(n),i):\n",
    "            S=frozenset(a)\n",
    "            for w in S:\n",
    "                Dtsp[(S,w)]=float('inf')\n",
    "                \n",
    "    for i in range(1,n+1):\n",
    "        for a in itertools.combinations(range(n),i):\n",
    "            S=frozenset(a)\n",
    "            for w in S:\n",
    "                if i==1:\n",
    "                    Dtsp[(S,w)]=cost(V[v],V[w])\n",
    "                    route[(S,w)]=[w]\n",
    "                else:\n",
    "                    Sw=S-set([w])\n",
    "                    for u in Sw:\n",
    "                        z=Dtsp[(Sw,u)]+cost(V[u],V[w])\n",
    "                        p=route[Sw,u]+[w]\n",
    "                        if z<Dtsp[(S,w)]:\n",
    "                            Dtsp[(S,w)]=z\n",
    "                            route[(S,w)]=p\n",
    "\n",
    "    path=route[(frozenset(range(n)),v)]\n",
    "    for i in range(n):\n",
    "        plt.scatter(V[v][0],V[v][1],c='red')\n",
    "        plt.scatter(V[i][0],V[i][1],c='k')\n",
    "        connect_x=[V[path[i]][0],V[path[(i+1)%len(V)]][0]]\n",
    "        connect_y=[V[path[i]][1],V[path[(i+1)%len(V)]][1]]\n",
    "        plt.plot(connect_x,connect_y, c='red')\n",
    "        \n",
    "    return path\n",
    "           \n",
    "        "
   ]
  },
  {
   "cell_type": "code",
   "execution_count": 114,
   "metadata": {},
   "outputs": [
    {
     "data": {
      "text/plain": [
       "[1, 6, 2, 5, 7, 3, 4, 0]"
      ]
     },
     "execution_count": 114,
     "metadata": {},
     "output_type": "execute_result"
    },
    {
     "data": {
      "image/png": "[encoded data removed]",
      "text/plain": [
       "<Figure size 432x288 with 1 Axes>"
      ]
     },
     "metadata": {
      "needs_background": "light"
     },
     "output_type": "display_data"
    }
   ],
   "source": [
    "TSPalgorithm1(V,0)"
   ]
  },
  {
   "cell_type": "code",
   "execution_count": null,
   "metadata": {},
   "outputs": [],
   "source": []
  }
 ],
 "metadata": {
  "kernelspec": {
   "display_name": "Python 3",
   "language": "python",
   "name": "python3"
  },
  "language_info": {
   "codemirror_mode": {
    "name": "ipython",
    "version": 3
   },
   "file_extension": ".py",
   "mimetype": "text/x-python",
   "name": "python",
   "nbconvert_exporter": "python",
   "pygments_lexer": "ipython3",
   "version": "3.7.6"
  }
 },
 "nbformat": 4,
 "nbformat_minor": 4
}
