{
 "cells": [
  {
   "cell_type": "code",
   "execution_count": 2,
   "metadata": {},
   "outputs": [],
   "source": [
    "import random\n",
    "n=10\n",
    "V = [(random.uniform(5,75),random.uniform(5,55)) for i in range(n)]\n",
    "def cost(s,t): return ((s[0]-t[0])**2+(s[1]-t[1])**2)**(0.5)\n",
    "alpha=0.5"
   ]
  },
  {
   "cell_type": "code",
   "execution_count": 2,
   "metadata": {},
   "outputs": [],
   "source": [
    "V=[(73.09236376424052, 13.234633791018304),\n",
    " (9.692348565427553, 30.08064633705568),\n",
    " (30.216608397996794, 37.68274198014572),\n",
    " (72.7837402226544, 47.48521261290151),\n",
    " (60.98335541407445, 38.77091247890942),\n",
    " (7.608555598489205, 35.14011960806063)]"
   ]
  },
  {
   "cell_type": "code",
   "execution_count": 3,
   "metadata": {},
   "outputs": [],
   "source": [
    "def t_cost(s,t): return ((s[0]-t[0])**2+(s[1]-t[1])**2)**(0.5)\n",
    "def d_cost(s,t): return alpha*(((s[0]-t[0])**2+(s[1]-t[1])**2)**(0.5))\n",
    "alpha=0.5    "
   ]
  },
  {
   "cell_type": "code",
   "execution_count": 4,
   "metadata": {},
   "outputs": [],
   "source": [
    "#First Pass\n",
    "import itertools\n",
    "n=len(V)\n",
    "Dt={}\n",
    "truck={}\n",
    "for i in range(1,n+1):\n",
    "    for a in itertools.combinations(range(n),i):\n",
    "        S=frozenset(a)\n",
    "        for v in range(n):#始点\n",
    "            for w in S:#終点\n",
    "                Dt[(S,v,w)]=float('inf')#無限大に初期化\n",
    "for i in range(1,n+1):\n",
    "    for a in itertools.combinations(range(n),i):\n",
    "        S=frozenset(a)\n",
    "        for v in range(n):\n",
    "            for w in S:\n",
    "                if i==1:\n",
    "                    Dt[(S,v,w)]=t_cost(V[v],V[w])\n",
    "                    truck[(S,v,w)]=[w]\n",
    "                else:\n",
    "                    Sw=S-set([w])\n",
    "                    for u in Sw:\n",
    "                        z=Dt[(Sw,v,u)]+t_cost(V[u],V[w])\n",
    "                        p=truck[(Sw,v,u)]+[w]\n",
    "                        if z<Dt[(S,v,w)]:\n",
    "                            Dt[(S,v,w)]=z\n",
    "                            truck[(S,v,w)]=p\n",
    "\n",
    "\n",
    "                            "
   ]
  },
  {
   "cell_type": "code",
   "execution_count": 5,
   "metadata": {},
   "outputs": [],
   "source": [
    "#Second Pass\n",
    "import itertools\n",
    "n=len(V)\n",
    "Dop={}\n",
    "operation={}\n",
    "for i in range(1,n+1):\n",
    "    for a in itertools.combinations(range(n),i):\n",
    "        S=frozenset(a)\n",
    "        for v in range(n):#始点\n",
    "            for w in S:#終点\n",
    "                Dop[(S,v,w)]=Dt[(S,v,w)]#初期値\n",
    "                \n",
    "for i in range(1,n+1):\n",
    "    for a in itertools.combinations(range(n),i):\n",
    "        S=frozenset(a)\n",
    "        for v in range(n):\n",
    "            for w in S:\n",
    "                if i==1:\n",
    "                    Dop[(S,v,w)]=Dt[(S,v,w)]\n",
    "                    operation[(S,v,w)]=truck[(S,v,w)]\n",
    "                else:\n",
    "                    Svw=S-set([v])-set([w])\n",
    "                    for d in Svw:\n",
    "                        drone_cost=d_cost(V[v],V[d])+d_cost(V[d],V[w])\n",
    "                        Sd=S-set([d])\n",
    "                        z=max(drone_cost,Dt[(Sd,v,w)])\n",
    "                        if z<Dop[(S,v,w)]:\n",
    "                            Dop[(S,v,w)]=z\n",
    "                            operation[(S,v,w)]=truck[(Sd,v,w)]+[[d]]\n",
    "                 \n",
    "\n",
    "                \n",
    "                    \n",
    "                        \n",
    "                                \n",
    "\n",
    "    #Dop(S,v,w)とはv\\inS,w\\inSでありvからスタートしてSの全ての点を通ってwで終わることを表す"
   ]
  },
  {
   "cell_type": "code",
   "execution_count": 8,
   "metadata": {},
   "outputs": [],
   "source": [
    "#third pass\n",
    "import matplotlib.pyplot as plt\n",
    "def Algorithm2(V,v0):\n",
    "    n=len(V)\n",
    "    D={}\n",
    "    route={}\n",
    "    for i in range(1,n+1):\n",
    "        for a in itertools.combinations(range(n),i):\n",
    "            S=frozenset(a)\n",
    "            for w in S:\n",
    "                D[(S,w)]=float('inf')\n",
    "    for i in range(n):\n",
    "        D[(frozenset({i}),i)]=Dop[(frozenset({i}),v0,i)]\n",
    "        route[(frozenset({i}),i)]=[operation[(frozenset({i}),v0,i)]]\n",
    "    for i in range(1,n+1):\n",
    "        for a in itertools.combinations(range(n),i):\n",
    "            U=set(a)#Vの部分集合\n",
    "            T=set(range(n))-U#T=V-U\n",
    "            for j in range(1,len(T)+1):\n",
    "                for b in itertools.combinations(T,j):\n",
    "                    Tset=set(b)#Tの部分集合\n",
    "                    for u in U:\n",
    "                        for w in range(n):\n",
    "                            z=D[(frozenset(U),u)]+Dop[(frozenset(Tset|{w}),u,w)]\n",
    "                            p=route[(frozenset(U),u)]+[operation[(frozenset(Tset|{w}),u,w)]]\n",
    "                            if z<D[(frozenset(U|Tset|{u,w}),w)]:\n",
    "                                D[(frozenset(U|Tset|{u,w}),w)]=z\n",
    "                                route[(frozenset(U|Tset|{u,w}),w)]=p\n",
    "                                \n",
    "                                \n",
    "    path = route[(frozenset(range(n)),v0)]\n",
    "    for i in range(n):\n",
    "        plt.scatter(V[v0][0],V[v0][1],c='red')\n",
    "        plt.scatter(V[i][0],V[i][1],c='k')\n",
    "    for i in range(len(path)):\n",
    "        if len(path[i])>=3:\n",
    "            for j in range(len(path[i])-2):\n",
    "                truck_x=[V[path[i][j]][0],V[path[i][j+1]][0]]\n",
    "                truck_y=[V[path[i][j]][1],V[path[i][j+1]][1]]\n",
    "                plt.plot(truck_x, truck_y,c='red')\n",
    "            truck_x=[V[path[i][-2]][0],V[path[(i+1)%len(path)][0]][0]]\n",
    "            truck_y=[V[path[i][-2]][1],V[path[(i+1)%len(path)][0]][1]]\n",
    "            drone_x1=[V[path[i][0]][0],V[path[i][-1][0]][0]]\n",
    "            drone_y1=[V[path[i][0]][1],V[path[i][-1][0]][1]]\n",
    "            drone_x2=[V[path[i][-1][0]][0],V[path[i][-2]][0]]\n",
    "            drone_y2=[V[path[i][-1][0]][1],V[path[i][-2]][1]]\n",
    "            plt.plot(truck_x,truck_y,c='red')\n",
    "            plt.plot(drone_x1,drone_y1, c='blue')\n",
    "            plt.plot(drone_x2,drone_y2, c='blue')\n",
    "        elif len(path[i])==1:\n",
    "            truck_x=[V[path[i][0]][0],V[path[i+1][0]][0]]\n",
    "            truck_y=[V[path[i][0]][1],V[path[i+1][0]][1]]\n",
    "            plt.plot(truck_x,truck_y, c='red')\n",
    "        else:\n",
    "            truck_x=[V[path[i][-2]][0],V[path[(i+1)%len(path)][0]][0]]\n",
    "            truck_y=[V[path[i][-2]][1],V[path[(i+1)%len(path)][0]][1]]\n",
    "            drone_x1=[V[path[i-1][0]][0],V[path[i][-1][0]][0]]\n",
    "            drone_y1=[V[path[i-1][0]][1],V[path[i][-1][0]][1]]\n",
    "            drone_x2=[V[path[i][-1][0]][0],V[path[i][-2]][0]]\n",
    "            drone_y2=[V[path[i][-1][0]][1],V[path[i][-2]][1]]\n",
    "            plt.plot(truck_x,truck_y,c='red')\n",
    "            plt.plot(drone_x1,drone_y1, c='blue')\n",
    "            plt.plot(drone_x2,drone_y2, c='blue')\n",
    "           \n",
    "            \n",
    "    return path,D[(frozenset(range(n)),v0)]\n",
    "                            \n",
    "                    \n",
    "                  \n"
   ]
  },
  {
   "cell_type": "code",
   "execution_count": 9,
   "metadata": {},
   "outputs": [
    {
     "data": {
      "text/plain": [
       "([[3], [4, 2, [1]], [0, [5]]], 129.06350493436355)"
      ]
     },
     "execution_count": 9,
     "metadata": {},
     "output_type": "execute_result"
    },
    {
     "data": {
      "image/png": "[encoded data removed]",
      "text/plain": [
       "<Figure size 432x288 with 1 Axes>"
      ]
     },
     "metadata": {
      "needs_background": "light"
     },
     "output_type": "display_data"
    }
   ],
   "source": [
    "Algorithm2(V,0)"
   ]
  },
  {
   "cell_type": "code",
   "execution_count": null,
   "metadata": {},
   "outputs": [],
   "source": []
  }
 ],
 "metadata": {
  "kernelspec": {
   "display_name": "Python 3",
   "language": "python",
   "name": "python3"
  },
  "language_info": {
   "codemirror_mode": {
    "name": "ipython",
    "version": 3
   },
   "file_extension": ".py",
   "mimetype": "text/x-python",
   "name": "python",
   "nbconvert_exporter": "python",
   "pygments_lexer": "ipython3",
   "version": "3.7.6"
  }
 },
 "nbformat": 4,
 "nbformat_minor": 4
}
