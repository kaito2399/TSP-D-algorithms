{
 "cells": [
  {
   "cell_type": "code",
   "execution_count": 50,
   "metadata": {},
   "outputs": [],
   "source": [
    "import random\n",
    "n=7\n",
    "V = [(random.uniform(5,75),random.uniform(5,55)) for i in range(n)]\n",
    "import matplotlib.pyplot as plt\n",
    "alpha=0.5"
   ]
  },
  {
   "cell_type": "code",
   "execution_count": 51,
   "metadata": {},
   "outputs": [
    {
     "data": {
      "text/plain": [
       "[(49.823525164394056, 46.90980814856092),\n",
       " (59.76933517229901, 36.98378053511337),\n",
       " (48.78474812373823, 48.3637507648895),\n",
       " (22.58008463241432, 23.60386194833535),\n",
       " (61.29696582140142, 31.50133132711721),\n",
       " (22.09613375703176, 41.10305666284079),\n",
       " (57.09925381239966, 48.31321181905019)]"
      ]
     },
     "execution_count": 51,
     "metadata": {},
     "output_type": "execute_result"
    }
   ],
   "source": [
    "V"
   ]
  },
  {
   "cell_type": "code",
   "execution_count": 52,
   "metadata": {},
   "outputs": [],
   "source": [
    "def t_cost(s,t): return ((s[0]-t[0])**2+(s[1]-t[1])**2)**(0.5)\n",
    "def d_cost(s,t): return alpha*(((s[0]-t[0])**2+(s[1]-t[1])**2)**(0.5))"
   ]
  },
  {
   "cell_type": "code",
   "execution_count": 53,
   "metadata": {},
   "outputs": [],
   "source": [
    "#First Pass\n",
    "import itertools\n",
    "n=len(V)\n",
    "Dt={}\n",
    "truck={}\n",
    "for i in range(1,n+1):\n",
    "    for a in itertools.combinations(range(n),i):\n",
    "        S=frozenset(a)\n",
    "        for v in range(n):#始点\n",
    "            for w in S:#終点\n",
    "                Dt[(S,v,w)]=float('inf')#無限大に初期化\n",
    "for i in range(1,n+1):\n",
    "    for a in itertools.combinations(range(n),i):\n",
    "        S=frozenset(a)\n",
    "        for v in range(n):\n",
    "            for w in S:\n",
    "                if i==1:\n",
    "                    Dt[(S,v,w)]=t_cost(V[v],V[w])\n",
    "                    truck[(S,v,w)]=[w]\n",
    "                else:\n",
    "                    Sw=S-set([w])\n",
    "                    for u in Sw:\n",
    "                        z=Dt[(Sw,v,u)]+t_cost(V[u],V[w])\n",
    "                        p=truck[(Sw,v,u)]+[w]\n",
    "                        if z<Dt[(S,v,w)]:\n",
    "                            Dt[(S,v,w)]=z\n",
    "                            truck[(S,v,w)]=p\n",
    "\n",
    "\n",
    "                            "
   ]
  },
  {
   "cell_type": "code",
   "execution_count": 54,
   "metadata": {},
   "outputs": [],
   "source": [
    "#Second Pass\n",
    "import itertools\n",
    "n=len(V)\n",
    "Dop={}\n",
    "operation={}\n",
    "for i in range(1,n+1):\n",
    "    for a in itertools.combinations(range(n),i):\n",
    "        S=frozenset(a)\n",
    "        for v in range(n):#始点\n",
    "            for w in S:#終点\n",
    "                Dop[(S,v,w)]=Dt[(S,v,w)]#初期値\n",
    "                \n",
    "for i in range(1,n+1):\n",
    "    for a in itertools.combinations(range(n),i):\n",
    "        S=frozenset(a)\n",
    "        for v in range(n):\n",
    "            for w in S:\n",
    "                if i==1:\n",
    "                    Dop[(S,v,w)]=Dt[(S,v,w)]\n",
    "                    operation[(S,v,w)]=truck[(S,v,w)]\n",
    "                else:\n",
    "                    Svw=S-set([v])-set([w])\n",
    "                    for d in Svw:\n",
    "                        drone_cost=d_cost(V[v],V[d])+d_cost(V[d],V[w])\n",
    "                        Sd=S-set([d])\n",
    "                        z=max(drone_cost,Dt[(Sd,v,w)])\n",
    "                        if z<Dop[(S,v,w)]:\n",
    "                            Dop[(S,v,w)]=z\n",
    "                            operation[(S,v,w)]=truck[(Sd,v,w)]+[[d]]\n",
    "                 \n",
    "\n",
    "                \n",
    "                    \n",
    "                        \n",
    "                                \n",
    "\n",
    "    #Dop(S,v,w)とはv\\inS,w\\inSでありvからスタートしてSの全ての点を通ってwで終わることを表す"
   ]
  },
  {
   "cell_type": "code",
   "execution_count": 55,
   "metadata": {},
   "outputs": [],
   "source": [
    "for i in range(1,n+1):\n",
    "    for a in itertools.combinations(range(n),i):\n",
    "        S=frozenset(a)\n",
    "        for j in range(n):\n",
    "            if (S,j,j) in Dop:\n",
    "                del Dop[(S,j,j)]"
   ]
  },
  {
   "cell_type": "code",
   "execution_count": 56,
   "metadata": {},
   "outputs": [],
   "source": [
    "# for i in range(n):\n",
    "#     del Dop[(frozenset({i}),i,i)]"
   ]
  },
  {
   "cell_type": "code",
   "execution_count": 57,
   "metadata": {},
   "outputs": [
    {
     "name": "stdout",
     "output_type": "stream",
     "text": [
      "Optimal\n",
      "objective: 56.04352209285884\n",
      "(frozenset({2}), 0, 2)\n",
      "(frozenset({4}), 1, 4)\n",
      "(frozenset({0, 6}), 2, 0)\n",
      "(frozenset({1, 4}), 4, 1)\n",
      "(frozenset({3, 5}), 3, 5)\n",
      "(frozenset({3, 5}), 5, 3)\n",
      "計算時間 = 5.710 (秒)\n"
     ]
    }
   ],
   "source": [
    "import pulp\n",
    "import itertools\n",
    "import time\n",
    "prob=pulp.LpProblem(\"drone_salesman\")\n",
    "\n",
    "x=[pulp.LpVariable('x{}'.format(i),cat=pulp.LpBinary) for i in range(len(Dop))]\n",
    "y=[pulp.LpVariable('y{}'.format(i),cat=pulp.LpBinary) for i in range(n)]\n",
    "Dopindex=[]\n",
    "for i in Dop:\n",
    "    Dopindex.append(i)\n",
    "O=[[] for i in range(n)]\n",
    "Ostart=[[] for i in range(n)]\n",
    "Oend=[[] for i in range(n)]\n",
    "for i in range(n):\n",
    "    for j in range(len(Dop)):\n",
    "        if Dopindex[j][2]==i:\n",
    "            Oend[i].append(j)\n",
    "        if Dopindex[j][1]==i:\n",
    "            Ostart[i].append(j)\n",
    "        if i in Dopindex[j][0] or Dopindex[j][1]==i:\n",
    "            O[i].append(j)\n",
    "\n",
    "prob += pulp.lpSum(x[i]*Dop[Dopindex[i]] for i in range(len(Dop)))\n",
    "\n",
    "for i in range(n):\n",
    "    prob += pulp.lpSum(x[j] for j in O[i])>=1#全てのノードをカバー\n",
    "    prob += pulp.lpSum(x[j] for j in Ostart[i])<=n*y[i]#vから始まるオペレーションがあるならyは1になる\n",
    "    prob += pulp.lpSum(x[j] for j in Ostart[i])==pulp.lpSum(x[j] for j in Oend[i])#流量保存\n",
    "    \n",
    "\n",
    "for i in range(1,n):\n",
    "    for a in itertools.combinations(range(n),i):\n",
    "        S=frozenset(a)\n",
    "        OS=[]\n",
    "        for v in S:\n",
    "            for j in Oend[v]:\n",
    "                    OS.append(j)\n",
    "        for v in S:\n",
    "            prob += pulp.lpSum(x[s] for s in OS)>=y[v]\n",
    "            \n",
    "prob += pulp.lpSum(x[s] for s in Oend[0])>=1\n",
    "prob += y[0]==1\n",
    "            \n",
    "# for i in range(1,n):#部分巡回路を削除\n",
    "#     for a in itertools.combinations(range(n),i):\n",
    "#         S=frozenset(a)\n",
    "#         OSC=[]#エンドノードがSで終わらないオペレーションのリスト\n",
    "#         for v in S:\n",
    "#             for j in Ostart[v]:\n",
    "#                 if Dopindex[j][2] not in S:\n",
    "#                     OSC.append(j)\n",
    "#         for v in S:\n",
    "#             prob += pulp.lpSum(x[s] for s in OSC)>=y[v]    \n",
    "solver = pulp.PULP_CBC_CMD()\n",
    "time_start = time.perf_counter()    \n",
    "prob.solve(solver)\n",
    "time_stop = time.perf_counter()\n",
    "print(pulp.LpStatus[prob.status]) \n",
    "print(\"objective: {}\".format(pulp.value(prob.objective)))\n",
    "for i in range(len(x)):\n",
    "    if pulp.value(x[i])==1.0:\n",
    "        print(Dopindex[i])\n",
    "print(f\"計算時間 = {time_stop - time_start:.3f} (秒)\")"
   ]
  },
  {
   "cell_type": "code",
   "execution_count": 27,
   "metadata": {},
   "outputs": [
    {
     "data": {
      "text/plain": [
       "114.3651134100759"
      ]
     },
     "execution_count": 27,
     "metadata": {},
     "output_type": "execute_result"
    }
   ],
   "source": [
    "Dop[(frozenset({6,9,3}),6,3)]+Dop[(frozenset({3,2,5}),3,5)]+Dop[(frozenset({5,0,8,4}),5,4)]+Dop[(frozenset({4,7,1,6}),4,6)]"
   ]
  },
  {
   "cell_type": "code",
   "execution_count": 293,
   "metadata": {},
   "outputs": [
    {
     "name": "stdout",
     "output_type": "stream",
     "text": [
      "0\n",
      "1\n",
      "2\n",
      "3\n",
      "4\n",
      "5\n"
     ]
    }
   ],
   "source": [
    "for i in range(n):\n",
    "    print(i)"
   ]
  },
  {
   "cell_type": "code",
   "execution_count": 294,
   "metadata": {},
   "outputs": [
    {
     "name": "stdout",
     "output_type": "stream",
     "text": [
      "1\n",
      "2\n",
      "3\n",
      "4\n",
      "5\n"
     ]
    }
   ],
   "source": [
    "for i in range(1,n):\n",
    "    print(i)"
   ]
  },
  {
   "cell_type": "code",
   "execution_count": null,
   "metadata": {},
   "outputs": [],
   "source": []
  }
 ],
 "metadata": {
  "kernelspec": {
   "display_name": "Python 3",
   "language": "python",
   "name": "python3"
  },
  "language_info": {
   "codemirror_mode": {
    "name": "ipython",
    "version": 3
   },
   "file_extension": ".py",
   "mimetype": "text/x-python",
   "name": "python",
   "nbconvert_exporter": "python",
   "pygments_lexer": "ipython3",
   "version": "3.7.6"
  }
 },
 "nbformat": 4,
 "nbformat_minor": 4
}
